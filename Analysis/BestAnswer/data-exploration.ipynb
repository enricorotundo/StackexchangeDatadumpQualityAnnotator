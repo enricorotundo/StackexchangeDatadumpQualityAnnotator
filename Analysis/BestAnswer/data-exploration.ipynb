{
 "cells": [
  {
   "cell_type": "code",
   "execution_count": 2,
   "metadata": {
    "collapsed": true
   },
   "outputs": [
    {
     "data": {
      "text/plain": [
       "'\\nThis script explores a single dataset and produces results only for it\\n'"
      ]
     },
     "execution_count": 2,
     "metadata": {},
     "output_type": "execute_result"
    }
   ],
   "source": [
    "\"\"\"\n",
    "This script explores a single dataset and produces results only for it\n",
    "\"\"\""
   ]
  },
  {
   "cell_type": "code",
   "execution_count": 16,
   "metadata": {},
   "outputs": [],
   "source": [
    "\"\"\"\n",
    "NOTE: to run notebook use: venv/bin/python manage.py shell_plus --notebook\n",
    "\"\"\"\n",
    "\n",
    "MYPROJECT='/Users/erotundo/PycharmProjects/DatasetAnnotatorProj'\n",
    "import os, sys\n",
    "sys.path.insert(0, MYPROJECT)\n",
    "os.environ.setdefault(\"DJANGO_SETTINGS_MODULE\", \"local_settings.py\")\n",
    "\n",
    "import django\n",
    "django.setup()\n",
    "\n",
    "from django.conf import settings\n",
    "from DatasetAnnotator.models import Posts\n",
    "from django.db.models import Q, F\n",
    "from django.db.models import Count, Sum, Max, Avg\n",
    "from django.db.models import When, Case, Value\n",
    "from django.db.models import IntegerField, FloatField\n",
    "import numpy as np\n",
    "import pandas as pd\n",
    "from django.db.models.functions import Greatest, Coalesce\n",
    "\n",
    "%matplotlib inline\n",
    "import matplotlib\n",
    "import matplotlib.pyplot as plt\n",
    "import seaborn as sns\n",
    "\n",
    "# community selection\n",
    "#available_dbs = settings.DATABASES.keys()[1:]\n",
    "db = 'travel'\n",
    "\n",
    "\n",
    "# plotting settings\n",
    "sns.set(style=\"white\", palette=\"muted\", color_codes=True)\n",
    "PLOTS_PATH = 'AnalysisBestAnswer/plots/' + db + '/'\n",
    "PLOTS_FORMATS = ['.pdf', '.png']"
   ]
  },
  {
   "cell_type": "markdown",
   "metadata": {},
   "source": [
    "# Threads length (all data)"
   ]
  },
  {
   "cell_type": "code",
   "execution_count": 13,
   "metadata": {},
   "outputs": [],
   "source": [
    "# example: {'cooking':[1,2,1,2,5], 'webapps': [...] ....}\n",
    "threads_length = dict()\n",
    "\n",
    "\n",
    "os.write(1, db+\"\\n\")\n",
    "\n",
    "    \n",
    "# STAGE 1: considering (only) actual threads (later must sum 1 for the question)\n",
    "threads_length[db] = Posts.objects\\\n",
    "    .using(db)\\\n",
    "    .filter(posttypeid=2)\\\n",
    "    .values('parentid')\\\n",
    "    .annotate(thread_len_part=Count('parentid'))\\\n",
    "    .values_list('thread_len_part', flat=True)\n",
    "# adding 1 to count the question\n",
    "threads_length[db] = [x+1 for x in threads_length[db]]\n",
    "\n",
    "\n",
    "# STAGE 2: considering (only) unanswered questions\n",
    "# get ids of questions with answers\n",
    "parent_questions_ids = Posts.objects\\\n",
    "    .using(db)\\\n",
    "    .filter(posttypeid=2)\\\n",
    "    .values_list('parentid', flat=True)\\\n",
    "    .distinct()\n",
    "# count unanswered questions\n",
    "unanswered_q_count = Posts.objects\\\n",
    "    .using(db)\\\n",
    "    .filter(posttypeid=1)\\\n",
    "    .exclude(id__in=parent_questions_ids)\\\n",
    "    .count()\n",
    "\n",
    "# append unanswered q to total counting\n",
    "threads_length[db] = threads_length[db] + [1 for i in range(unanswered_q_count)]"
   ]
  },
  {
   "cell_type": "markdown",
   "metadata": {},
   "source": [
    "# Thread length VS Nr threads (all data)"
   ]
  },
  {
   "cell_type": "code",
   "execution_count": 14,
   "metadata": {},
   "outputs": [],
   "source": [
    "# for each distinct value in [...] count its occurence, zip the result\n",
    "\n",
    "t_length_count = dict()\n",
    "\n",
    "# count occurences\n",
    "bins = np.bincount(threads_length[db])\n",
    "# remove zeros from bins\n",
    "t_count = bins[np.nonzero(bins)]\n",
    "# sorted threads sizes\n",
    "t_sizes = np.unique(threads_length[db])\n",
    "\n",
    "t_length_count[db] = {\n",
    "    't_count': t_count,\n",
    "    't_sizes': t_sizes\n",
    "}"
   ]
  },
  {
   "cell_type": "code",
   "execution_count": 29,
   "metadata": {},
   "outputs": [
    {
     "data": {
      "image/png": "[encoded data removed]",
      "text/plain": [
       "<matplotlib.figure.Figure at 0x1153826d0>"
      ]
     },
     "metadata": {},
     "output_type": "display_data"
    }
   ],
   "source": [
    "fig = plt.figure(figsize=(5,5))\n",
    "ax1 = fig.add_subplot(111)\n",
    "\n",
    "ax1.scatter(x=t_length_count[db]['t_sizes'], \n",
    "            y=t_length_count[db]['t_count'], \n",
    "            label=db, s=50, c='b', marker='x', clip_on=False)\n",
    "\n",
    "ax1.set_xscale('log', nonposx='clip')\n",
    "ax1.set_yscale('log', nonposy='clip')\n",
    "plt.xlabel('thread size (num answers)', fontsize=18)\n",
    "plt.ylabel('count', fontsize=18)\n",
    "plt.title('Thread sizes (all data)', fontsize=18)\n",
    "ax1.set_xlim(xmin=0.9)\n",
    "xmin, xmax = ax1.get_xlim()\n",
    "ymin, ymax = ax1.get_ylim()\n",
    "\n",
    "plt.grid(alpha=0.7, linestyle='dotted')\n",
    "plt.legend()\n",
    "plt.tight_layout()\n",
    "for plot_format in PLOTS_FORMATS: \n",
    "    plt.savefig(PLOTS_PATH + 'thread_sizes_ALL' + plot_format)"
   ]
  }
 ],
 "metadata": {
  "kernelspec": {
   "display_name": "Python 2",
   "language": "python",
   "name": "python2"
  },
  "language_info": {
   "codemirror_mode": {
    "name": "ipython",
    "version": 2.0
   },
   "file_extension": ".py",
   "mimetype": "text/x-python",
   "name": "python",
   "nbconvert_exporter": "python",
   "pygments_lexer": "ipython2",
   "version": "2.7.6"
  }
 },
 "nbformat": 4,
 "nbformat_minor": 0
}