{
 "cells": [
  {
   "cell_type": "code",
   "execution_count": 63,
   "metadata": {
    "collapsed": true,
    "deletable": true,
    "editable": true
   },
   "outputs": [],
   "source": [
    "\"\"\"\n",
    "NOTE: to run notebook use: venv/bin/python manage.py shell_plus --notebook\n",
    "\"\"\"\n",
    "\n",
    "MYPROJECT='/Users/erotundo/PycharmProjects/DatasetAnnotatorProj'\n",
    "import os, sys\n",
    "sys.path.insert(0, MYPROJECT)\n",
    "os.environ.setdefault(\"DJANGO_SETTINGS_MODULE\", \"local_settings.py\")\n",
    "\n",
    "import django\n",
    "django.setup()\n",
    "\n",
    "from django.conf import settings\n",
    "from DatasetAnnotator.models import Posts\n",
    "from django.db.models import Q, F\n",
    "from django.db.models import Count\n",
    "from django.db.models.functions import Greatest, Coalesce\n",
    "import io, json\n",
    "\n",
    "\n",
    "# community selection\n",
    "#available_dbs = settings.DATABASES.keys()[1:]\n",
    "db = 'travel'\n",
    "OUTPUT_PATH = 'AnalysisBestAnswer/output/' + db + '/data/'"
   ]
  },
  {
   "cell_type": "markdown",
   "metadata": {
    "deletable": true,
    "editable": true
   },
   "source": [
    "# Extract threads to JSON file"
   ]
  },
  {
   "cell_type": "code",
   "execution_count": 64,
   "metadata": {
    "collapsed": true,
    "deletable": true,
    "editable": true
   },
   "outputs": [],
   "source": [
    "# load all questions and answers\n",
    "questions = Posts.objects\\\n",
    "        .using(db)\\\n",
    "        .filter(posttypeid=1)\\\n",
    "        .filter(acceptedanswerid__isnull=False)\n",
    "\n",
    "all_answers = Posts.objects\\\n",
    "        .using(db)\\\n",
    "        .filter(posttypeid=2)"
   ]
  },
  {
   "cell_type": "code",
   "execution_count": 65,
   "metadata": {
    "collapsed": true,
    "deletable": true,
    "editable": true
   },
   "outputs": [
    {
     "name": "stdout",
     "output_type": "stream",
     "text": [
      "8027\n"
     ]
    }
   ],
   "source": [
    "threads = []\n",
    "\n",
    "print questions.count()\n",
    "\n",
    "for question in questions:\n",
    "    answers = all_answers.filter(parentid=question.id)\n",
    "    \n",
    "    q =  { 'title': question.title,\n",
    "           'body': question.body,\n",
    "           'user': question.owneruserid,\n",
    "           'tags': question.tags,\n",
    "    }\n",
    "    \n",
    "    a = []\n",
    "    \n",
    "    for answer in answers:\n",
    "        if answer.id != question.acceptedanswerid:\n",
    "            a.append({\n",
    "               'body': answer.body,\n",
    "               'user': answer.owneruserid,\n",
    "            })\n",
    "    accepted_ans = answers.get(id=question.acceptedanswerid)\n",
    "    threads.append({\n",
    "        'question': q,\n",
    "        'other_answers': a,\n",
    "        'accepted_answer': {\n",
    "            'body': accepted_ans.body,\n",
    "            'user': accepted_ans.owneruserid,\n",
    "        }\n",
    "    })"
   ]
  },
  {
   "cell_type": "code",
   "execution_count": 66,
   "metadata": {
    "collapsed": false,
    "deletable": true,
    "editable": true
   },
   "outputs": [
    {
     "name": "stdout",
     "output_type": "stream",
     "text": [
      "[{'accepted_answer': {'body': u'<p>from <a href=\"http://www.facebook.com/group.php?gid=16929680703Blockquote\">here</a>:</p>&#xA;&#xA;<blockquote>&#xA;  <p>Go here: &#xA;  <a href=\"http://www.facebook.com/help/delete_account\">http://www.facebook.com/help/delete_account</a></p>&#xA;  &#xA;  <p>Click \"Submit\" and follow the instructions.</p>&#xA;  &#xA;  <p>Your account will be deactivated for two weeks, and if you DO NOT USE FACEBOOK IN ANY WAY during that period, your account is permanently deleted. </p>&#xA;</blockquote>&#xA;', 'user': 22L}, 'question': {'body': u\"<p>I don't trust Facebook's new privacy settings and have decided to delete my account, but I can't find the kill switch.</p>&#xA;&#xA;<p>Does anyone know how I can delete my Facebook account?</p>&#xA;\", 'tags': u'<facebook><delete><account-management>', 'user': 17L, 'title': u'How do I delete my Facebook account?'}, 'other_answers': [{'body': u'<p>Go to \"Your Account\".  Go to \"Deactivate Account\".</p>&#xA;&#xA;<p>Facebook is a megalomaniac.  It will never ever ever EVER delete your profile.  If you decide ten years later to sign in, then it will still be there.  I\\'d erase my pictures from the site before deleting my account.</p>&#xA;&#xA;<p>Actually, I just did last week.</p>&#xA;', 'user': None}, {'body': u'<p>It is not neccessary to go through the deactivation 2 week wait, you can delete your account directly at:</p>&#xA;&#xA;<p><a href=\"http://www.facebook.com/help/delete_account\" rel=\"nofollow\">www.facebook.com/help/delete_account</a></p>&#xA;&#xA;<blockquote>&#xA;  <p>If you do not think you will use Facebook again and would like your account deleted, we can take care of this for you. Keep in mind that you will not be able to reactivate your account or retrieve any of the content or information you have added.</p>&#xA;</blockquote>&#xA;', 'user': 8167L}, {'body': u'<p>There\\'s a <a href=\"https://www.youtube.com/watch?v=4E7EXW9gdBI\" rel=\"nofollow\">step by step YouTube guide</a> on how to delete a Facebook account. There\\'s also <a href=\"http://www.shoutingblogger.com/2012/11/How-to-delete-Facebook-account-2013-Permanently-or-Temporally.html\" rel=\"nofollow\">this blog article</a> guiding you through the process.</p>&#xA;&#xA;<p>Note that deactivating your Facebook account only makes Facebook temporarily unavailable; it will be reactivated once you login again to your account. So if you are 100% sure you want to delete your account account, only then go for the delete option. It may take 15 days to completely delete your Facebook account.</p>&#xA;', 'user': 45622L}]}]\n"
     ]
    }
   ],
   "source": [
    "print threads[0:1]"
   ]
  },
  {
   "cell_type": "code",
   "execution_count": 67,
   "metadata": {
    "collapsed": true,
    "deletable": true,
    "editable": true
   },
   "outputs": [],
   "source": [
    "with io.open(OUTPUT_PATH + 'threads.json', 'w', encoding='utf-8') as f:\n",
    "  f.write(json.dumps(threads, ensure_ascii=False))"
   ]
  },
  {
   "cell_type": "code",
   "execution_count": 68,
   "metadata": {
    "collapsed": false,
    "deletable": true,
    "editable": true
   },
   "outputs": [
    {
     "data": {
      "text/plain": [
       "0"
      ]
     },
     "execution_count": 67,
     "metadata": {},
     "output_type": "execute_result"
    }
   ],
   "source": [
    "import gc\n",
    "del threads\n",
    "del all_answers\n",
    "del questions\n",
    "gc.collect()"
   ]
  },
  {
   "cell_type": "markdown",
   "metadata": {
    "deletable": true,
    "editable": true
   },
   "source": [
    "# Extract users data to JSON file"
   ]
  },
  {
   "cell_type": "code",
   "execution_count": 69,
   "metadata": {
    "collapsed": false,
    "deletable": true,
    "editable": true
   },
   "outputs": [],
   "source": [
    "from django.forms.models import model_to_dict\n",
    "\n",
    "users = Posts.objects\\\n",
    "        .using(db)\\\n",
    "        .filter(posttypeid__in=[1,2])\\\n",
    "        .values('owneruserid')\\\n",
    "        .annotate(posts=Count('owneruserid'))\\\n",
    "        .values('owneruserid', 'posts')\n",
    "\n",
    "users_dict = dict()\n",
    "foo_ = [users_dict.update({d['owneruserid'] : { u'nr_posts': d['posts'] }}) for d in users]"
   ]
  },
  {
   "cell_type": "code",
   "execution_count": 70,
   "metadata": {
    "collapsed": true,
    "deletable": true,
    "editable": true
   },
   "outputs": [],
   "source": [
    "with io.open(OUTPUT_PATH + 'users.json', 'w', encoding='utf-8') as f:\n",
    "  f.write(json.dumps(users_dict, ensure_ascii=False))"
   ]
  },
  {
   "cell_type": "code",
   "execution_count": 71,
   "metadata": {
    "collapsed": false,
    "deletable": true,
    "editable": true
   },
   "outputs": [
    {
     "data": {
      "text/plain": [
       "4"
      ]
     },
     "execution_count": 70,
     "metadata": {},
     "output_type": "execute_result"
    }
   ],
   "source": [
    "del users\n",
    "del users_dict\n",
    "gc.collect()"
   ]
  },
  {
   "cell_type": "code",
   "execution_count": 71,
   "metadata": {
    "collapsed": true,
    "deletable": true,
    "editable": true
   },
   "outputs": [],
   "source": [
    ""
   ]
  },
  {
   "cell_type": "code",
   "execution_count": null,
   "metadata": {
    "collapsed": true,
    "deletable": true,
    "editable": true
   },
   "outputs": [],
   "source": [
    ""
   ]
  }
 ],
 "metadata": {
  "kernelspec": {
   "display_name": "Python 2",
   "language": "python",
   "name": "python2"
  },
  "language_info": {
   "codemirror_mode": {
    "name": "ipython",
    "version": 2.0
   },
   "file_extension": ".py",
   "mimetype": "text/x-python",
   "name": "python",
   "nbconvert_exporter": "python",
   "pygments_lexer": "ipython2",
   "version": "2.7.10"
  }
 },
 "nbformat": 4,
 "nbformat_minor": 0
}