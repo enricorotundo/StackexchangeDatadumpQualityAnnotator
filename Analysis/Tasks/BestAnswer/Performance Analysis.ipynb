{
 "cells": [
  {
   "cell_type": "markdown",
   "metadata": {},
   "source": [
    "# Plot classification performace (step 3)"
   ]
  },
  {
   "cell_type": "code",
   "execution_count": 125,
   "metadata": {
    "collapsed": true
   },
   "outputs": [],
   "source": [
    "import dask.dataframe as ddf\n",
    "import numpy as np\n",
    "import pandas as pd\n",
    "%matplotlib inline\n",
    "import matplotlib\n",
    "import matplotlib.pyplot as plt\n",
    "import seaborn as sns\n",
    "import glob\n",
    "from scipy import stats\n",
    "\n",
    "from Metrics import ir_metrics\n",
    "\n",
    "BASE_PATH = \"/Users/erotundo/PycharmProjects/DatasetAnnotatorProj/Analysis/Data/travel/\"\n",
    "PRED_PATH = BASE_PATH + \"predictions_threads_acceptedOnly_ansCountGte2_binaryBestAnswer/\"\n",
    "\n",
    "\n",
    "# plotting settings\n",
    "sns.set(style=\"white\", palette=\"muted\", color_codes=True)\n",
    "PLOTS_PATH = 'output/travel/'\n",
    "PLOTS_FORMATS = ['.pdf', '.png']"
   ]
  },
  {
   "cell_type": "markdown",
   "metadata": {},
   "source": [
    "## Helper functions for computing metrics"
   ]
  },
  {
   "cell_type": "code",
   "execution_count": 177,
   "metadata": {},
   "outputs": [],
   "source": [
    "def dcg_at_k(df, k, col):\n",
    "    \"\"\"\n",
    "    Input: whole DF of all predictions\n",
    "    Returns: array with a metric for each thread in DF\n",
    "    \"\"\"\n",
    "    metrics = []\n",
    "    for name, group in df.groupby(by='thread_id'):\n",
    "        group = group.sort_values('y_true', ascending=False)\n",
    "        metrics.append(ir_metrics.dcg_at_k(group[col], k, method=1))\n",
    "    return metrics\n",
    "\n",
    "def mrr(df, col):\n",
    "    \"\"\"\n",
    "    Input: whole DF of all predictions\n",
    "    Returns: float, a metric for the whole DF!\n",
    "    \"\"\"\n",
    "    ranks = []\n",
    "    for name, group in df.groupby(by='thread_id'):\n",
    "        group = group.sort_values('y_true', ascending=False)\n",
    "        ranks.append(group[col].values)\n",
    "    return ir_metrics.mean_reciprocal_rank(ranks)\n",
    "\n",
    "def precision_at_k(df, k, col):\n",
    "    \"\"\"\n",
    "    Input: whole DF of all predictions\n",
    "    Returns: array with a metric for each thread in DF\n",
    "    \"\"\"\n",
    "    metrics = []\n",
    "    for name, group in df.groupby(by='thread_id'):\n",
    "        group = group.sort_values('y_true', ascending=False)\n",
    "        try:\n",
    "            metrics.append(ir_metrics.precision_at_k(group[col], k))\n",
    "        except:\n",
    "            pass\n",
    "    return metrics\n",
    "\n",
    "    \n",
    "def add_random_predictions(df):\n",
    "    \"\"\"\n",
    "    Input: whole DF of all predictions\n",
    "    Returns: DF with +1 column for random predictions\n",
    "    \"\"\"\n",
    "    rnd_preds_all = []\n",
    "    for name, group in df.groupby(by='thread_id'):\n",
    "        rnd_preds = np.random.randint(1, size=group.shape[0])\n",
    "        position_for_1 = np.random.randint(group.shape[0], size=1)\n",
    "        rnd_preds[position_for_1] = 1\n",
    "        rnd_preds_all.extend(rnd_preds)\n",
    "    df['rnd_pred'] = rnd_preds_all\n",
    "    return df"
   ]
  },
  {
   "cell_type": "markdown",
   "metadata": {},
   "source": [
    "## Compute metrics"
   ]
  },
  {
   "cell_type": "code",
   "execution_count": 183,
   "metadata": {
    "scrolled": true
   },
   "outputs": [
    {
     "name": "stdout",
     "output_type": "stream",
     "text": [
      "RandomForestClassifier 1 2 3 4 5 6 7 8 9 10 LogisticRegression 1 2 3 4 5 6 7 8 9 10 SVC 1 2 3 4 5 6 7 8 9 10 KNeighborsClassifier 1 2 3 4 5 6 7 8 9 10\n"
     ]
    }
   ],
   "source": [
    "mean_dcg_rnd = dict()\n",
    "mean_mrr_rnd = dict()\n",
    "mean_dcg_data = dict()\n",
    "mean_mrr_data = dict()\n",
    "mean_precision_data = dict()\n",
    "ci_dcg_data = dict()\n",
    "ci_mrr_data = dict()\n",
    "\n",
    "files = ['AdaBoostClassifier',\n",
    "         'KNeighborsClassifier',\n",
    "         'LogisticRegression',\n",
    "         'MLPClassifier',\n",
    "         'RandomForestClassifier',\n",
    "         'SVC']\n",
    "\n",
    "files = ['RandomForestClassifier', 'LogisticRegression', 'SVC', 'KNeighborsClassifier']\n",
    "\n",
    "for file_name in files:\n",
    "    model_name = file_name\n",
    "    print model_name,\n",
    "    \n",
    "    # init\n",
    "    mean_dcg_rnd[model_name] = []\n",
    "    mean_mrr_rnd[model_name] = []\n",
    "    mean_dcg_data[model_name] = []\n",
    "    mean_precision_data[model_name] = []\n",
    "    mean_mrr_data[model_name] = []\n",
    "    ci_dcg_data[model_name] = []\n",
    "    ci_mrr_data[model_name] = []\n",
    "    \n",
    "    # read predictions\n",
    "    df_model = pd.read_csv(PRED_PATH + file_name + \"_predictions.csv\")\\\n",
    "        .drop('Unnamed: 1', axis=1)\\\n",
    "        .drop('thread_id.1', axis=1)\\\n",
    "        .drop('pred_proba_class0', axis=1)\\\n",
    "        .drop('pred_proba_class1', axis=1)\\\n",
    "        .drop('post_id', axis=1)    \n",
    "    \n",
    "    # generate random predictions\n",
    "    df_model = add_random_predictions(df_model)\n",
    "    \n",
    "    # compute metrics for different k\n",
    "    for k in xrange(1, 11):\n",
    "        print k,\n",
    "        mean_dcg_data[model_name].append(np.mean(dcg_at_k(df_model, k, 'y_pred')))\n",
    "        mean_mrr_data[model_name].append(mrr(df_model, 'y_pred'))\n",
    "        mean_precision_data[model_name].append(np.mean(precision_at_k(df_model, k, 'y_pred')))"
   ]
  },
  {
   "cell_type": "markdown",
   "metadata": {},
   "source": [
    "## Time for plotting..."
   ]
  },
  {
   "cell_type": "code",
   "execution_count": 185,
   "metadata": {},
   "outputs": [
    {
     "data": {
      "image/png": "[encoded data removed]",
      "text/plain": [
       "<matplotlib.figure.Figure at 0x10b00b850>"
      ]
     },
     "metadata": {},
     "output_type": "display_data"
    }
   ],
   "source": [
    "# plot DCG@1 bars\n",
    "\n",
    "fig = plt.figure(figsize=(4, 2))\n",
    "ax1 = fig.add_subplot(111)\n",
    "\n",
    "for idx, file_name in enumerate(files):\n",
    "    ax1.bar(idx,  mean_dcg_data[file_name][0],  label=file_name)\n",
    "\n",
    "plt.ylabel('DCG@1', fontsize=8)\n",
    "plt.tick_params(axis='both', which='major', labelsize=8)\n",
    "\n",
    "plt.grid(alpha=0.7, linestyle='dotted')\n",
    "plt.legend(fontsize=8)\n",
    "plt.tight_layout(pad=0.3)\n",
    "for plot_format in PLOTS_FORMATS: \n",
    "    plt.savefig(PLOTS_PATH + 'dcg1_bars' + plot_format)"
   ]
  },
  {
   "cell_type": "code",
   "execution_count": 188,
   "metadata": {},
   "outputs": [
    {
     "data": {
      "image/png": "[encoded data removed]",
      "text/plain": [
       "<matplotlib.figure.Figure at 0x10bc77d50>"
      ]
     },
     "metadata": {},
     "output_type": "display_data"
    }
   ],
   "source": [
    "# plot NDCG curves\n",
    "\n",
    "fig = plt.figure(figsize=(4, 2))\n",
    "ax1 = fig.add_subplot(111)\n",
    "\n",
    "for model_name in files:\n",
    "    ax1.plot(range(1, 11), \n",
    "             mean_dcg_data[model_name], \n",
    "             label=model_name)\n",
    "\n",
    "plt.xlabel('k', fontsize=8)\n",
    "plt.ylabel('DCG@k', fontsize=8)\n",
    "plt.tick_params(axis='both', which='major', labelsize=8)\n",
    "\n",
    "plt.grid(alpha=0.0, linestyle='dotted')\n",
    "plt.legend(fontsize=8)\n",
    "plt.tight_layout(pad=0.3)\n",
    "for plot_format in PLOTS_FORMATS: \n",
    "    plt.savefig(PLOTS_PATH + 'dcgK_lines' + plot_format)"
   ]
  },
  {
   "cell_type": "code",
   "execution_count": 189,
   "metadata": {},
   "outputs": [
    {
     "data": {
      "image/png": "[encoded data removed]",
      "text/plain": [
       "<matplotlib.figure.Figure at 0x10a5b27d0>"
      ]
     },
     "metadata": {},
     "output_type": "display_data"
    }
   ],
   "source": [
    "# plot MRR curves\n",
    "\n",
    "fig = plt.figure(figsize=(4, 2))\n",
    "ax1 = fig.add_subplot(111)\n",
    "\n",
    "for model_name in files:\n",
    "    ax1.plot(range(1,11), \n",
    "             mean_mrr_data[model_name], \n",
    "             label=model_name)\n",
    "\n",
    "plt.xlabel('k', fontsize=8)\n",
    "plt.ylabel('MRR', fontsize=8)\n",
    "plt.tick_params(axis='both', which='major', labelsize=8)\n",
    "\n",
    "plt.grid(alpha=0.0, linestyle='dotted')\n",
    "plt.legend(fontsize=8)\n",
    "plt.tight_layout(pad=0.3)\n",
    "for plot_format in PLOTS_FORMATS: \n",
    "    plt.savefig(PLOTS_PATH + 'mrr_lines' + plot_format)"
   ]
  },
  {
   "cell_type": "code",
   "execution_count": 190,
   "metadata": {},
   "outputs": [
    {
     "data": {
      "image/png": "[encoded data removed]",
      "text/plain": [
       "<matplotlib.figure.Figure at 0x10b0291d0>"
      ]
     },
     "metadata": {},
     "output_type": "display_data"
    }
   ],
   "source": [
    "# plot P@1 curves\n",
    "\n",
    "fig = plt.figure(figsize=(4, 2))\n",
    "ax1 = fig.add_subplot(111)\n",
    "\n",
    "for model_name in files:\n",
    "    ax1.plot(range(1,11), \n",
    "             mean_precision_data[model_name], \n",
    "             label=model_name)\n",
    "\n",
    "plt.xlabel('k', fontsize=8)\n",
    "plt.ylabel('Precision@k', fontsize=8)\n",
    "plt.tick_params(axis='both', which='major', labelsize=8)\n",
    "\n",
    "plt.grid(alpha=0.0, linestyle='dotted')\n",
    "plt.legend(fontsize=8)\n",
    "plt.tight_layout(pad=0.3)\n",
    "for plot_format in PLOTS_FORMATS: \n",
    "    plt.savefig(PLOTS_PATH + 'precision_lines' + plot_format)"
   ]
  },
  {
   "cell_type": "markdown",
   "metadata": {
    "collapsed": true
   },
   "source": [
    "## Feature importances (RF)"
   ]
  },
  {
   "cell_type": "code",
   "execution_count": 63,
   "metadata": {},
   "outputs": [],
   "source": [
    "from sklearn.externals import joblib\n",
    "rf_path = '/Users/erotundo/PycharmProjects/DatasetAnnotatorProj/Analysis/Data/travel/' + \\\n",
    "'pickled_threads_acceptedOnly_ansCountGte2_binaryBestAnswer/' + \\\n",
    "'RandomForestClassifier_sklearn0.18.1.pkl'\n",
    "clf = joblib.load(rf_path)\n",
    "rf_est = clf.steps[0][1]\n",
    "\n",
    "feat_names = pd.read_csv('/Users/erotundo/PycharmProjects/DatasetAnnotatorProj/Analysis/Data/travel/' + \n",
    "            'preprocessed_threads_acceptedOnly_ansCountGte2_binaryBestAnswer/' + \n",
    "            'development-0.csv')\\\n",
    "            .drop('best_answer', axis=1) \\\n",
    "            .drop('thread_id', axis=1) \\\n",
    "            .drop('post_id', axis=1) \\\n",
    "            .drop('Unnamed: 0', axis=1) \\\n",
    "            .drop('Unnamed: 0.1', axis=1) \\\n",
    "            .drop('index', axis=1) \\\n",
    "            .columns.values.tolist()\n",
    "            \n",
    "std = np.std([tree.feature_importances_ for tree in rf_est.estimators_],\n",
    "             axis=0) / np.sqrt(len(rf_est.estimators_))            \n",
    "f_importance = []\n",
    "\n",
    "for (name, value), err in zip(zip(feat_names, rf_est.feature_importances_), std):\n",
    "    f_importance.append((name, value, err))\n",
    "f_importance = sorted(f_importance, key=lambda x: x[1], reverse=True)"
   ]
  },
  {
   "cell_type": "code",
   "execution_count": 108,
   "metadata": {},
   "outputs": [
    {
     "data": {
      "image/png": "[encoded data removed]",
      "text/plain": [
       "<matplotlib.figure.Figure at 0x10b249150>"
      ]
     },
     "metadata": {},
     "output_type": "display_data"
    }
   ],
   "source": [
    "# top 10 feature importances\n",
    "\n",
    "limit = 10\n",
    "\n",
    "fig = plt.figure(figsize=(4, 2))\n",
    "ax1 = fig.add_subplot(111)\n",
    "\n",
    "ax1.barh([record[0] for record in enumerate(f_importance[:limit])],\n",
    "        [record[1] for record in f_importance[:limit]], \n",
    "        color=\"r\", \n",
    "        align=\"center\",\n",
    "        xerr=[record[2] for record in f_importance[:limit]])\n",
    "ax1.invert_yaxis()\n",
    "plt.yticks(range(limit), \n",
    "           [record[1][0] for record in enumerate(f_importance[:limit])],\n",
    "           rotation=0)\n",
    "\n",
    "plt.xlabel('Feature. importance', fontsize=8)\n",
    "plt.tick_params(axis='both', which='major', labelsize=8)\n",
    "plt.tight_layout(pad=0.3)\n",
    "for plot_format in PLOTS_FORMATS: \n",
    "    plt.savefig(PLOTS_PATH + 'feats_importance_top10' + plot_format)"
   ]
  },
  {
   "cell_type": "code",
   "execution_count": 109,
   "metadata": {},
   "outputs": [
    {
     "data": {
      "image/png": "[encoded data removed]",
      "text/plain": [
       "<matplotlib.figure.Figure at 0x10bb85f50>"
      ]
     },
     "metadata": {},
     "output_type": "display_data"
    }
   ],
   "source": [
    "# least 10 feature importances\n",
    "\n",
    "limit = 10\n",
    "\n",
    "fig = plt.figure(figsize=(4, 2))\n",
    "ax1 = fig.add_subplot(111)\n",
    "\n",
    "ax1.barh( [record[0] for record in enumerate(f_importance[-limit:])],\n",
    "        [record[1] for record in f_importance[-limit:]], \n",
    "        \n",
    "        color=\"r\", \n",
    "        align=\"center\",\n",
    "        xerr=[record[2] for record in f_importance[-limit:]])\n",
    "ax1.invert_yaxis()\n",
    "plt.yticks(range(limit), \n",
    "           [record[1][0] for record in enumerate(f_importance[-limit:])],\n",
    "           rotation=0)\n",
    "\n",
    "plt.xlabel('Feature importance', fontsize=8)\n",
    "plt.tick_params(axis='both', which='major', labelsize=8)\n",
    "plt.tight_layout(pad=0.3)\n",
    "for plot_format in PLOTS_FORMATS: \n",
    "    plt.savefig(PLOTS_PATH + 'feats_importance_least10' + plot_format)"
   ]
  },
  {
   "cell_type": "markdown",
   "metadata": {},
   "source": [
    "## GridSearchCV analysis"
   ]
  },
  {
   "cell_type": "code",
   "execution_count": null,
   "metadata": {
    "collapsed": true
   },
   "outputs": [],
   "source": [
    "# TODO"
   ]
  }
 ],
 "metadata": {
  "kernelspec": {
   "display_name": "Python 2",
   "language": "python",
   "name": "python2"
  },
  "language_info": {
   "codemirror_mode": {
    "name": "ipython",
    "version": 2
   },
   "file_extension": ".py",
   "mimetype": "text/x-python",
   "name": "python",
   "nbconvert_exporter": "python",
   "pygments_lexer": "ipython2",
   "version": "2.7.10"
  }
 },
 "nbformat": 4,
 "nbformat_minor": 2
}
