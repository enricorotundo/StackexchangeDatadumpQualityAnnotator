{
 "cells": [
  {
   "cell_type": "markdown",
   "metadata": {},
   "source": [
    "# Plot classification performace (step 3)"
   ]
  },
  {
   "cell_type": "code",
   "execution_count": 71,
   "metadata": {},
   "outputs": [],
   "source": [
    "import dask.dataframe as ddf\n",
    "import numpy as np\n",
    "import pandas as pd\n",
    "%matplotlib inline\n",
    "import matplotlib\n",
    "import matplotlib.pyplot as plt\n",
    "import seaborn as sns\n",
    "import glob\n",
    "\n",
    "from Metrics import ir_metrics\n",
    "\n",
    "BASE_PATH = \"/Users/erotundo/PycharmProjects/DatasetAnnotatorProj/Analysis/Data/travel/\"\n",
    "PRED_PATH = BASE_PATH + \"predictions_threads_acceptedOnly_all_binaryBestAnswer/\"\n",
    "\n",
    "\n",
    "# plotting settings\n",
    "sns.set(style=\"white\", palette=\"muted\", color_codes=True)\n",
    "PLOTS_PATH = 'output/travel/'\n",
    "PLOTS_FORMATS = ['.pdf', '.png']"
   ]
  },
  {
   "cell_type": "code",
   "execution_count": 72,
   "metadata": {
    "collapsed": true
   },
   "outputs": [],
   "source": [
    "def ndcg_at_k(df, k):\n",
    "        return ir_metrics.ndcg_at_k(df['y_pred'], k)\n",
    "\n",
    "def ndcg_at_k_post(df, k):\n",
    "        return ir_metrics.ndcg_at_k(df['y_pred_post'], k)\n",
    "\n",
    "def mrr(df):\n",
    "    return ir_metrics.mean_reciprocal_rank(df['y_pred'])\n",
    "\n",
    "def precision_at_k(df, k):\n",
    "        return ir_metrics.precision_at_k(df['y_pred'], k)\n",
    "    \n",
    "def precision_at_k_post(df, k):\n",
    "        return ir_metrics.precision_at_k(df['y_pred_post'], k)"
   ]
  },
  {
   "cell_type": "code",
   "execution_count": 75,
   "metadata": {},
   "outputs": [],
   "source": [
    "ndcg_data = dict()\n",
    "ndcg_post_data = dict()\n",
    "mrr_data = dict()\n",
    "precision_data = dict()\n",
    "precision_post_data = dict()\n",
    "    \n",
    "for file_name in glob.glob(PRED_PATH + \"*.csv\"):\n",
    "    model_name = file_name.split(\"/\")[-1].split(\"_\")[0]\n",
    "    \n",
    "    # init\n",
    "    ndcg_data[model_name] = []\n",
    "    ndcg_post_data[model_name] = []\n",
    "    mrr_data[model_name] = []\n",
    "    precision_data[model_name] = []\n",
    "    precision_post_data[model_name] = []\n",
    "    \n",
    "    grouped_threads_df = pd.read_csv(file_name).groupby('thread_id')\n",
    "    for k in xrange(1, 11):\n",
    "        ndcg_data[model_name].append(grouped_threads_df.apply(ndcg_at_k, k).mean())\n",
    "        ndcg_post_data[model_name].append(grouped_threads_df.apply(ndcg_at_k_post, k).mean())\n",
    "        mrr_data[model_name].append(grouped_threads_df.apply(mrr).mean())\n",
    "        #precision_data[model_name].append(grouped_threads_df.apply(precision_at_k, k).mean())\n",
    "        #precision_post_data[model_name].append(grouped_threads_df.apply(precision_at_k_post, k).mean())"
   ]
  },
  {
   "cell_type": "code",
   "execution_count": 59,
   "metadata": {},
   "outputs": [
    {
     "data": {
      "image/png": "[encoded data removed]",
      "text/plain": [
       "<matplotlib.figure.Figure at 0x111c15290>"
      ]
     },
     "metadata": {},
     "output_type": "display_data"
    }
   ],
   "source": [
    "# normal predictions\n",
    "\n",
    "fig = plt.figure(figsize=(4, 2))\n",
    "ax1 = fig.add_subplot(111)\n",
    "\n",
    "for model_name in ndcg_data.keys():\n",
    "    ax1.plot(range(1,11), \n",
    "             ndcg_data[model_name], \n",
    "             label=model_name)\n",
    "\n",
    "plt.xlabel('k', fontsize=8)\n",
    "plt.ylabel('nDCG@k', fontsize=8)\n",
    "plt.tick_params(axis='both', which='major', labelsize=8)\n",
    "\n",
    "plt.grid(alpha=0.0, linestyle='dotted')\n",
    "plt.legend(fontsize=8)\n",
    "plt.tight_layout(pad=0.3)"
   ]
  },
  {
   "cell_type": "code",
   "execution_count": 60,
   "metadata": {},
   "outputs": [
    {
     "data": {
      "image/png": "[encoded data removed]",
      "text/plain": [
       "<matplotlib.figure.Figure at 0x111f76090>"
      ]
     },
     "metadata": {},
     "output_type": "display_data"
    }
   ],
   "source": [
    "# post-processed predictions\n",
    "\n",
    "fig = plt.figure(figsize=(4, 2))\n",
    "ax1 = fig.add_subplot(111)\n",
    "\n",
    "for model_name in ndcg_post_data.keys():\n",
    "    ax1.plot(range(1,11), \n",
    "             ndcg_post_data[model_name], \n",
    "             label=model_name)\n",
    "\n",
    "plt.xlabel('k', fontsize=8)\n",
    "plt.ylabel('nDCG@k', fontsize=8)\n",
    "plt.tick_params(axis='both', which='major', labelsize=8)\n",
    "\n",
    "plt.grid(alpha=0.7, linestyle='dotted')\n",
    "plt.legend(fontsize=8)\n",
    "plt.tight_layout(pad=0.3)"
   ]
  },
  {
   "cell_type": "code",
   "execution_count": null,
   "metadata": {
    "collapsed": true
   },
   "outputs": [],
   "source": []
  }
 ],
 "metadata": {
  "kernelspec": {
   "display_name": "Python 2",
   "language": "python",
   "name": "python2"
  },
  "language_info": {
   "codemirror_mode": {
    "name": "ipython",
    "version": 2
   },
   "file_extension": ".py",
   "mimetype": "text/x-python",
   "name": "python",
   "nbconvert_exporter": "python",
   "pygments_lexer": "ipython2",
   "version": "2.7.10"
  }
 },
 "nbformat": 4,
 "nbformat_minor": 2
}
