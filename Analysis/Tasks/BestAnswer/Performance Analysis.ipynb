{
 "cells": [
  {
   "cell_type": "markdown",
   "metadata": {},
   "source": [
    "# Plot classification performace (step 3)"
   ]
  },
  {
   "cell_type": "code",
   "execution_count": 125,
   "metadata": {
    "collapsed": true
   },
   "outputs": [],
   "source": [
    "import dask.dataframe as ddf\n",
    "import numpy as np\n",
    "import pandas as pd\n",
    "%matplotlib inline\n",
    "import matplotlib\n",
    "import matplotlib.pyplot as plt\n",
    "import seaborn as sns\n",
    "import glob\n",
    "from scipy import stats\n",
    "\n",
    "from Metrics import ir_metrics\n",
    "\n",
    "BASE_PATH = \"/Users/erotundo/PycharmProjects/DatasetAnnotatorProj/Analysis/Data/travel/\"\n",
    "PRED_PATH = BASE_PATH + \"predictions_threads_acceptedOnly_ansCountGte2_binaryBestAnswer/\"\n",
    "\n",
    "\n",
    "# plotting settings\n",
    "sns.set(style=\"white\", palette=\"muted\", color_codes=True)\n",
    "PLOTS_PATH = 'output/travel/'\n",
    "PLOTS_FORMATS = ['.pdf', '.png']"
   ]
  },
  {
   "cell_type": "markdown",
   "metadata": {},
   "source": [
    "## Helper functions for computing metrics"
   ]
  },
  {
   "cell_type": "code",
   "execution_count": 256,
   "metadata": {},
   "outputs": [],
   "source": [
    "def dcg_at_k(df, k, col):\n",
    "    \"\"\"\n",
    "    Input: whole DF of all predictions\n",
    "    Returns: array with a metric for each thread in DF\n",
    "    \"\"\"\n",
    "    metrics = []\n",
    "    for name, group in df.groupby(by='thread_id'):\n",
    "        group = group.sort_values('y_true', ascending=False)\n",
    "        metrics.append(ir_metrics.dcg_at_k(group[col], k, method=1))\n",
    "    return metrics\n",
    "\n",
    "def mrr(df, col):\n",
    "    \"\"\"\n",
    "    Input: whole DF of all predictions\n",
    "    Returns: float, a metric for the whole DF!\n",
    "    \"\"\"\n",
    "    ranks = []\n",
    "    for name, group in df.groupby(by='thread_id'):\n",
    "        group = group.sort_values('y_true', ascending=False)\n",
    "        ranks.append(group[col].values)\n",
    "    return ir_metrics.mean_reciprocal_rank(ranks)\n",
    "\n",
    "def precision_at_k(df, k, col):\n",
    "    \"\"\"\n",
    "    Input: whole DF of all predictions\n",
    "    Returns: array with a metric for each thread in DF\n",
    "    \"\"\"\n",
    "    metrics = []\n",
    "    for name, group in df.groupby(by='thread_id'):\n",
    "        group = group.sort_values('y_true', ascending=False)\n",
    "        try:\n",
    "            metrics.append(ir_metrics.precision_at_k(group[col], k))\n",
    "        except:\n",
    "            pass\n",
    "    return metrics\n",
    "\n",
    "    \n",
    "def add_random_predictions(df):\n",
    "    \"\"\"\n",
    "    Input: whole DF of all predictions\n",
    "    Returns: DF with +1 column for random predictions\n",
    "    \"\"\"\n",
    "    df_ = df.copy(deep=True)\n",
    "    rnd_preds_all = []\n",
    "    for name, group in df.groupby(by='thread_id'):\n",
    "        # set all preds to class-0\n",
    "        rnd_preds = np.random.randint(1, size=group.shape[0])\n",
    "        # randomly swap a prediction to class-1\n",
    "        position_for_1 = np.random.randint(group.shape[0], size=1)\n",
    "        #rnd_preds[position_for_1] = 1.0\n",
    "        rnd_preds[position_for_1] = np.random.randint(2, size=1)[0]\n",
    "        rnd_preds_all.extend(rnd_preds)\n",
    "    df_['y_pred_rnd'] = rnd_preds_all\n",
    "    return df_"
   ]
  },
  {
   "cell_type": "markdown",
   "metadata": {},
   "source": [
    "## Compute metrics"
   ]
  },
  {
   "cell_type": "code",
   "execution_count": 267,
   "metadata": {
    "scrolled": true
   },
   "outputs": [
    {
     "name": "stdout",
     "output_type": "stream",
     "text": [
      "Random       thread_id  y_pred  y_true  y_pred_post  y_pred_rnd\n",
      "0          25.0     1.0     1.0          1.0           0\n",
      "1          25.0     1.0     0.0          0.0           0\n",
      "2          25.0     0.0     0.0          0.0           0\n",
      "3          25.0     0.0     0.0          0.0           0\n",
      "4          25.0     0.0     0.0          0.0           0\n",
      "5          25.0     0.0     0.0          0.0           0\n",
      "6          25.0     0.0     0.0          0.0           0\n",
      "7          25.0     0.0     0.0          0.0           0\n",
      "8          28.0     0.0     0.0          1.0           0\n",
      "9          28.0     0.0     1.0          0.0           0\n",
      "10         28.0     0.0     0.0          0.0           0\n",
      "11         73.0     1.0     0.0          1.0           0\n",
      "12         73.0     0.0     1.0          0.0           0\n",
      "13         73.0     0.0     0.0          0.0           0\n",
      "14         73.0     0.0     0.0          0.0           0\n",
      "15         73.0     0.0     0.0          0.0           0\n",
      "16         77.0     0.0     1.0          1.0           0\n",
      "17         77.0     0.0     0.0          0.0           0\n",
      "18         77.0     0.0     0.0          0.0           0\n",
      "19         77.0     0.0     0.0          0.0           0\n",
      "20         77.0     0.0     0.0          0.0           0\n",
      "21         77.0     0.0     0.0          0.0           1\n",
      "22         85.0     1.0     1.0          1.0           0\n",
      "23         85.0     0.0     0.0          0.0           0\n",
      "24         85.0     0.0     0.0          0.0           0\n",
      "25         85.0     0.0     0.0          0.0           0\n",
      "26         85.0     0.0     0.0          0.0           0\n",
      "27         85.0     0.0     0.0          0.0           1\n",
      "28         85.0     0.0     0.0          0.0           0\n",
      "29         85.0     0.0     0.0          0.0           0\n",
      "...         ...     ...     ...          ...         ...\n",
      "3019    76842.0     0.0     0.0          0.0           0\n",
      "3020    76842.0     0.0     0.0          0.0           0\n",
      "3021    76842.0     0.0     0.0          0.0           0\n",
      "3022    76842.0     0.0     0.0          0.0           0\n",
      "3023    76842.0     0.0     0.0          0.0           0\n",
      "3024    76842.0     0.0     0.0          0.0           0\n",
      "3025    76842.0     0.0     1.0          0.0           0\n",
      "3026    77195.0     1.0     1.0          1.0           0\n",
      "3027    77195.0     0.0     0.0          0.0           0\n",
      "3028    77195.0     1.0     0.0          0.0           0\n",
      "3029    77195.0     0.0     0.0          0.0           0\n",
      "3030    77278.0     0.0     1.0          1.0           0\n",
      "3031    77278.0     0.0     0.0          0.0           0\n",
      "3032    77278.0     0.0     0.0          0.0           0\n",
      "3033    77278.0     0.0     0.0          0.0           0\n",
      "3034    77278.0     0.0     0.0          0.0           1\n",
      "3035    77369.0     0.0     0.0          1.0           0\n",
      "3036    77369.0     0.0     1.0          0.0           0\n",
      "3037    77370.0     0.0     1.0          1.0           0\n",
      "3038    77370.0     0.0     0.0          0.0           1\n",
      "3039    77755.0     1.0     0.0          1.0           0\n",
      "3040    77755.0     1.0     0.0          0.0           0\n",
      "3041    77755.0     0.0     1.0          0.0           0\n",
      "3042    77755.0     0.0     0.0          0.0           0\n",
      "3043    77755.0     0.0     0.0          0.0           0\n",
      "3044    77755.0     0.0     0.0          0.0           0\n",
      "3045    77993.0     0.0     1.0          1.0           0\n",
      "3046    77993.0     0.0     0.0          0.0           0\n",
      "3047    78007.0     0.0     1.0          1.0           0\n",
      "3048    78007.0     0.0     0.0          0.0           0\n",
      "\n",
      "[3049 rows x 5 columns]\n",
      "1 2 3 4 5 6 7 8 9 10 RandomForestClassifier 1 2 3 4 5 6 7 8 9 10 LogisticRegression 1 2 3 4 5 6 7 8 9 10 SVC 1 2 3 4 5 6 7 8 9 10 KNeighborsClassifier 1 2 3 4 5 6 7 8 9 10\n"
     ]
    }
   ],
   "source": [
    "mean_dcg_data = dict()\n",
    "mean_mrr_data = dict()\n",
    "mean_precision_data = dict()\n",
    "\n",
    "std_dcg_data = dict()\n",
    "std_precision_data = dict()\n",
    "\n",
    "files = ['AdaBoostClassifier',\n",
    "         'KNeighborsClassifier',\n",
    "         'LogisticRegression',\n",
    "         'MLPClassifier',\n",
    "         'RandomForestClassifier',\n",
    "         'SVC']\n",
    "\n",
    "files = ['Random', 'RandomForestClassifier', 'LogisticRegression', 'SVC', 'KNeighborsClassifier']\n",
    "\n",
    "for file_name in files:\n",
    "    model_name = file_name\n",
    "    print model_name,\n",
    "    \n",
    "    # init\n",
    "    mean_dcg_data[model_name] = []\n",
    "    mean_mrr_data[model_name] = []\n",
    "    mean_precision_data[model_name] = []\n",
    "    std_dcg_data[model_name] = []\n",
    "    std_precision_data[model_name] = []\n",
    "\n",
    "    \n",
    "    if file_name is not 'Random':\n",
    "        # read predictions\n",
    "        df_model = pd.read_csv(PRED_PATH + file_name + \"_predictions.csv\")\\\n",
    "            .drop('Unnamed: 1', axis=1)\\\n",
    "            .drop('thread_id.1', axis=1)\\\n",
    "            .drop('pred_proba_class0', axis=1)\\\n",
    "            .drop('pred_proba_class1', axis=1)\\\n",
    "            .drop('rnd_pred', axis=1)\\\n",
    "            .drop('post_id', axis=1)    \n",
    "    else:\n",
    "        # generate random predictions\n",
    "        df_model = add_random_predictions(pd.read_csv(PRED_PATH + \"RandomForestClassifier_predictions.csv\")\\\n",
    "            .drop('Unnamed: 1', axis=1)\\\n",
    "            .drop('thread_id.1', axis=1)\\\n",
    "            .drop('pred_proba_class0', axis=1)\\\n",
    "            .drop('pred_proba_class1', axis=1)\\\n",
    "            .drop('rnd_pred', axis=1)\\\n",
    "            .drop('post_id', axis=1))\n",
    "        \n",
    "        print df_model\n",
    "    \n",
    "    # compute metrics for different k\n",
    "    for k in xrange(1, 11):\n",
    "        print k,\n",
    "        if file_name is not 'Random':\n",
    "            col = 'y_pred'\n",
    "        else:\n",
    "            col = 'y_pred_rnd'\n",
    "            \n",
    "        mean_dcg_data[model_name].append(np.mean(dcg_at_k(df_model, k, col)))\n",
    "        mean_mrr_data[model_name].append(mrr(df_model, col))\n",
    "        mean_precision_data[model_name].append(np.mean(precision_at_k(df_model, k, col)))\n",
    "        \n",
    "        std_dcg_data[model_name].append(np.std(dcg_at_k(df_model, k, col)) / np.sqrt(df_model.shape[0]))\n",
    "        std_precision_data[model_name].append(np.std(precision_at_k(df_model, k, col)) / np.sqrt(df_model.shape[0]))"
   ]
  },
  {
   "cell_type": "code",
   "execution_count": 331,
   "metadata": {
    "collapsed": true
   },
   "outputs": [],
   "source": [
    "markers = ['o', 'X', '+', 'v', 's', '^']\n",
    "marker = dict()\n",
    "for file_name, m in zip(files, markers):\n",
    "    marker[file_name] = m"
   ]
  },
  {
   "cell_type": "code",
   "execution_count": 268,
   "metadata": {},
   "outputs": [
    {
     "data": {
      "text/plain": [
       "[0.21196754563894524,\n",
       " 0.32970697226891299,\n",
       " 0.36114713454071828,\n",
       " 0.37381409213111216,\n",
       " 0.37930693117906716,\n",
       " 0.3818357854485967,\n",
       " 0.38352611675353249,\n",
       " 0.3841660049417388,\n",
       " 0.3841660049417388,\n",
       " 0.3841660049417388]"
      ]
     },
     "execution_count": 268,
     "metadata": {},
     "output_type": "execute_result"
    }
   ],
   "source": [
    "mean_dcg_data['Random']"
   ]
  },
  {
   "cell_type": "code",
   "execution_count": 269,
   "metadata": {},
   "outputs": [
    {
     "data": {
      "text/plain": [
       "[0.46044624746450302,\n",
       " 0.59994187249348663,\n",
       " 0.61667615241235063,\n",
       " 0.62279123538702363,\n",
       " 0.62436061797215359,\n",
       " 0.62616694245038895,\n",
       " 0.62751920749433776,\n",
       " 0.6284790397766471,\n",
       " 0.62878434403188443,\n",
       " 0.62995702081207861]"
      ]
     },
     "execution_count": 269,
     "metadata": {},
     "output_type": "execute_result"
    }
   ],
   "source": [
    "mean_dcg_data['RandomForestClassifier']"
   ]
  },
  {
   "cell_type": "markdown",
   "metadata": {},
   "source": [
    "## Time for plotting..."
   ]
  },
  {
   "cell_type": "code",
   "execution_count": 312,
   "metadata": {},
   "outputs": [
    {
     "data": {
      "image/png": "[encoded data removed]",
      "text/plain": [
       "<matplotlib.figure.Figure at 0x10c38d910>"
      ]
     },
     "metadata": {},
     "output_type": "display_data"
    }
   ],
   "source": [
    "# plot DCG@1 bars\n",
    "\n",
    "fig = plt.figure(figsize=(4, 2))\n",
    "ax1 = fig.add_subplot(111)\n",
    "\n",
    "labels = []\n",
    "for idx, file_name in enumerate(files):\n",
    "    labels.append(mean_dcg_data[file_name][0])\n",
    "    rect = ax1.bar(idx,  \n",
    "            mean_dcg_data[file_name][0],  \n",
    "            label=file_name)\n",
    "    \n",
    "rects = ax1.patches\n",
    "for rect, label in zip(rects, labels):\n",
    "    height = rect.get_height()\n",
    "    ax1.text(rect.get_x() + rect.get_width()/2, height + height*0.01, \n",
    "             np.round(label, decimals=2), \n",
    "             ha='center', \n",
    "             va='bottom',\n",
    "            fontsize=8)\n",
    "ax1.spines['right'].set_visible(False)\n",
    "ax1.spines['top'].set_visible(False)\n",
    "ax1.set_ylim([0.0, 0.5])\n",
    "\n",
    "plt.ylabel('DCG@1', fontsize=8)\n",
    "plt.tick_params(axis='both', which='major', labelsize=8)\n",
    "plt.tick_params(axis='x', bottom='off', labelbottom='off')\n",
    "\n",
    "plt.grid(alpha=0.0, linestyle='dotted')\n",
    "plt.legend(fontsize=5)\n",
    "plt.tight_layout(pad=0.3)\n",
    "for plot_format in PLOTS_FORMATS: \n",
    "    plt.savefig(PLOTS_PATH + 'dcg1_bars' + plot_format)"
   ]
  },
  {
   "cell_type": "code",
   "execution_count": 320,
   "metadata": {},
   "outputs": [
    {
     "data": {
      "image/png": "[encoded data removed]",
      "text/plain": [
       "<matplotlib.figure.Figure at 0x10b17b6d0>"
      ]
     },
     "metadata": {},
     "output_type": "display_data"
    }
   ],
   "source": [
    "# plot MRR bars\n",
    "\n",
    "fig = plt.figure(figsize=(4, 2))\n",
    "ax1 = fig.add_subplot(111)\n",
    "\n",
    "labels=[]\n",
    "for idx, file_name in enumerate(files):\n",
    "    labels.append(mean_mrr_data[file_name][0])\n",
    "    ax1.bar(idx, \n",
    "             mean_mrr_data[file_name][0], \n",
    "             label=file_name)\n",
    "\n",
    "rects = ax1.patches\n",
    "for rect, label in zip(rects, labels):\n",
    "    height = rect.get_height()\n",
    "    ax1.text(rect.get_x() + rect.get_width()/2, height + height*0.01, \n",
    "             np.round(label, decimals=2), \n",
    "             ha='center', \n",
    "             va='bottom',\n",
    "            fontsize=8)\n",
    "ax1.spines['right'].set_visible(False)\n",
    "ax1.spines['top'].set_visible(False)\n",
    "ax1.set_ylim([0.0, 0.6])\n",
    "\n",
    "plt.ylabel('MRR', fontsize=8)\n",
    "plt.tick_params(axis='both', which='major', labelsize=8)\n",
    "plt.tick_params(axis='x', bottom='off', labelbottom='off')\n",
    "\n",
    "plt.grid(alpha=0.0, linestyle='dotted')\n",
    "plt.legend(fontsize=5)\n",
    "plt.tight_layout(pad=0.3)\n",
    "for plot_format in PLOTS_FORMATS: \n",
    "    plt.savefig(PLOTS_PATH + 'mrr_bars' + plot_format)"
   ]
  },
  {
   "cell_type": "code",
   "execution_count": 334,
   "metadata": {},
   "outputs": [
    {
     "data": {
      "image/png": "[encoded data removed]",
      "text/plain": [
       "<matplotlib.figure.Figure at 0x10a5bfe90>"
      ]
     },
     "metadata": {},
     "output_type": "display_data"
    }
   ],
   "source": [
    "# plot NDCG curves\n",
    "\n",
    "fig = plt.figure(figsize=(4, 2))\n",
    "ax1 = fig.add_subplot(111)\n",
    "\n",
    "\n",
    "for model_name in files:\n",
    "    ax1.plot(range(1, 11), \n",
    "             mean_dcg_data[model_name], \n",
    "             label=model_name)\n",
    "ax1.set_ylim([0.15, 0.7])\n",
    "\n",
    "plt.xlabel('k', fontsize=8)\n",
    "plt.ylabel('DCG@k', fontsize=8)\n",
    "plt.tick_params(axis='both', which='major', labelsize=8)\n",
    "\n",
    "plt.grid(alpha=0.7, linestyle='dotted')\n",
    "plt.legend(fontsize=5)\n",
    "plt.tight_layout(pad=0.3)\n",
    "for plot_format in PLOTS_FORMATS: \n",
    "    plt.savefig(PLOTS_PATH + 'dcgK_lines' + plot_format)"
   ]
  },
  {
   "cell_type": "code",
   "execution_count": 318,
   "metadata": {},
   "outputs": [
    {
     "data": {
      "image/png": "[encoded data removed]",
      "text/plain": [
       "<matplotlib.figure.Figure at 0x10be23c10>"
      ]
     },
     "metadata": {},
     "output_type": "display_data"
    }
   ],
   "source": [
    "# plot P@1 curves\n",
    "\n",
    "fig = plt.figure(figsize=(4, 2))\n",
    "ax1 = fig.add_subplot(111)\n",
    "\n",
    "for model_name in files:\n",
    "    ax1.plot(range(1,11), \n",
    "             mean_precision_data[model_name], \n",
    "             label=model_name)\n",
    "ax1.set_ylim([0.0, 0.5])\n",
    "\n",
    "plt.xlabel('k', fontsize=8)\n",
    "plt.ylabel('Precision@k', fontsize=8)\n",
    "plt.tick_params(axis='both', which='major', labelsize=8)\n",
    "\n",
    "plt.grid(alpha=0.7, linestyle='dotted')\n",
    "plt.legend(fontsize=5)\n",
    "plt.tight_layout(pad=0.3)\n",
    "for plot_format in PLOTS_FORMATS: \n",
    "    plt.savefig(PLOTS_PATH + 'precision_lines' + plot_format)"
   ]
  },
  {
   "cell_type": "markdown",
   "metadata": {
    "collapsed": true
   },
   "source": [
    "## Feature importances (RF)"
   ]
  },
  {
   "cell_type": "code",
   "execution_count": 245,
   "metadata": {},
   "outputs": [],
   "source": [
    "from sklearn.externals import joblib\n",
    "rf_path = '/Users/erotundo/PycharmProjects/DatasetAnnotatorProj/Analysis/Data/travel/' + \\\n",
    "'pickled_threads_acceptedOnly_ansCountGte2_binaryBestAnswer/' + \\\n",
    "'RandomForestClassifier_sklearn0.18.1.pkl'\n",
    "clf = joblib.load(rf_path)\n",
    "rf_est = clf.steps[0][1]\n",
    "\n",
    "feat_names = pd.read_csv('/Users/erotundo/PycharmProjects/DatasetAnnotatorProj/Analysis/Data/travel/' + \n",
    "            'preprocessed_threads_acceptedOnly_ansCountGte2_binaryBestAnswer/' + \n",
    "            'development-0.csv')\\\n",
    "            .drop('best_answer', axis=1) \\\n",
    "            .drop('thread_id', axis=1) \\\n",
    "            .drop('post_id', axis=1) \\\n",
    "            .drop('Unnamed: 0', axis=1) \\\n",
    "            .drop('Unnamed: 0.1', axis=1) \\\n",
    "            .drop('index', axis=1) \\\n",
    "            .columns.values.tolist()\n",
    "            \n",
    "std = np.std([tree.feature_importances_ for tree in rf_est.estimators_],\n",
    "             axis=0) / np.sqrt(len(rf_est.estimators_))            \n",
    "f_importance = []\n",
    "\n",
    "for (name, value), err in zip(zip(feat_names, rf_est.feature_importances_), std):\n",
    "    f_importance.append((name, value, err))\n",
    "f_importance = sorted(f_importance, key=lambda x: x[1], reverse=True)"
   ]
  },
  {
   "cell_type": "code",
   "execution_count": 309,
   "metadata": {},
   "outputs": [
    {
     "data": {
      "image/png": "[encoded data removed]",
      "text/plain": [
       "<matplotlib.figure.Figure at 0x10ae2d910>"
      ]
     },
     "metadata": {},
     "output_type": "display_data"
    }
   ],
   "source": [
    "# top 10 feature importances\n",
    "\n",
    "limit = 10\n",
    "\n",
    "fig = plt.figure(figsize=(4, 2))\n",
    "ax1 = fig.add_subplot(111)\n",
    "\n",
    "ax1.barh([record[0] for record in enumerate(f_importance[:limit])],\n",
    "        [record[1] for record in f_importance[:limit]], \n",
    "        color=\"r\", \n",
    "        align=\"center\",\n",
    "        xerr=[record[2] for record in f_importance[:limit]])\n",
    "ax1.invert_yaxis()\n",
    "plt.yticks(range(limit), \n",
    "           [record[1][0] for record in enumerate(f_importance[:limit])],\n",
    "           rotation=0)\n",
    "\n",
    "plt.xlabel('Feature importance', fontsize=8)\n",
    "plt.tick_params(axis='both', which='major', labelsize=8)\n",
    "plt.tight_layout(pad=0.3)\n",
    "for plot_format in PLOTS_FORMATS: \n",
    "    plt.savefig(PLOTS_PATH + 'feats_importance_top10' + plot_format)"
   ]
  },
  {
   "cell_type": "code",
   "execution_count": 291,
   "metadata": {},
   "outputs": [
    {
     "data": {
      "image/png": "[encoded data removed]",
      "text/plain": [
       "<matplotlib.figure.Figure at 0x10ae74890>"
      ]
     },
     "metadata": {},
     "output_type": "display_data"
    }
   ],
   "source": [
    "# least 10 feature importances\n",
    "\n",
    "limit = 10\n",
    "\n",
    "fig = plt.figure(figsize=(4, 2))\n",
    "ax1 = fig.add_subplot(111)\n",
    "\n",
    "ax1.barh( [record[0] for record in enumerate(f_importance[-limit:])],\n",
    "        [record[1] for record in f_importance[-limit:]], \n",
    "        \n",
    "        color=\"r\", \n",
    "        align=\"center\",\n",
    "        xerr=[record[2] for record in f_importance[-limit:]])\n",
    "ax1.invert_yaxis()\n",
    "plt.yticks(range(limit), \n",
    "           [record[1][0] for record in enumerate(f_importance[-limit:])],\n",
    "           rotation=0)\n",
    "\n",
    "plt.xlabel('Feature importance', fontsize=8)\n",
    "plt.tick_params(axis='both', which='major', labelsize=8)\n",
    "plt.tight_layout(pad=0.3)\n",
    "for plot_format in PLOTS_FORMATS: \n",
    "    plt.savefig(PLOTS_PATH + 'feats_importance_least10' + plot_format)"
   ]
  },
  {
   "cell_type": "markdown",
   "metadata": {},
   "source": [
    "## GridSearchCV analysis"
   ]
  },
  {
   "cell_type": "code",
   "execution_count": null,
   "metadata": {
    "collapsed": true
   },
   "outputs": [],
   "source": [
    "# TODO"
   ]
  }
 ],
 "metadata": {
  "kernelspec": {
   "display_name": "Python 2",
   "language": "python",
   "name": "python2"
  },
  "language_info": {
   "codemirror_mode": {
    "name": "ipython",
    "version": 2
   },
   "file_extension": ".py",
   "mimetype": "text/x-python",
   "name": "python",
   "nbconvert_exporter": "python",
   "pygments_lexer": "ipython2",
   "version": "2.7.10"
  }
 },
 "nbformat": 4,
 "nbformat_minor": 2
}
