{
 "cells": [
  {
   "cell_type": "markdown",
   "metadata": {},
   "source": [
    "# Plot classification performace (step 3)"
   ]
  },
  {
   "cell_type": "code",
   "execution_count": 36,
   "metadata": {
    "collapsed": true
   },
   "outputs": [],
   "source": [
    "import dask.dataframe as ddf\n",
    "import numpy as np\n",
    "import pandas as pd\n",
    "%matplotlib inline\n",
    "import matplotlib\n",
    "import matplotlib.pyplot as plt\n",
    "import seaborn as sns\n",
    "import glob\n",
    "from scipy import stats\n",
    "\n",
    "from Metrics import ir_metrics\n",
    "\n",
    "BASE_PATH = \"/Users/erotundo/PycharmProjects/DatasetAnnotatorProj/Analysis/Data/travel/\"\n",
    "PRED_PATH = BASE_PATH + \"predictions_threads_acceptedOnly_ansCountGte2_binaryBestAnswer/\"\n",
    "\n",
    "\n",
    "# plotting settings\n",
    "sns.set(style=\"white\", palette=\"muted\", color_codes=True)\n",
    "PLOTS_PATH = 'output/travel/'\n",
    "PLOTS_FORMATS = ['.pdf', '.png']"
   ]
  },
  {
   "cell_type": "markdown",
   "metadata": {},
   "source": [
    "## Helper functions for computing metrics"
   ]
  },
  {
   "cell_type": "code",
   "execution_count": 37,
   "metadata": {},
   "outputs": [],
   "source": [
    "def ndcg_at_k(df, k, col):\n",
    "    \"\"\"\n",
    "    Input: whole DF of all predictions\n",
    "    Returns: array with a metric for each thread in DF\n",
    "    \"\"\"\n",
    "    metrics = []\n",
    "    for name, group in df.groupby(by='thread_id'):\n",
    "        metrics.append(ir_metrics.ndcg_at_k(df[col], k))\n",
    "    return metrics\n",
    "\n",
    "def mrr(df, col):\n",
    "    \"\"\"\n",
    "    Input: whole DF of all predictions\n",
    "    Returns: array with a metric for each thread in DF\n",
    "    \"\"\"\n",
    "    metrics = []\n",
    "    for name, group in df.groupby(by='thread_id'):\n",
    "        metrics.append(ir_metrics.mean_reciprocal_rank(df[col]))\n",
    "    return metrics\n",
    "\n",
    "    \n",
    "def add_random_predictions(df):\n",
    "    \"\"\"\n",
    "    Input: whole DF of all predictions\n",
    "    Returns: DF with +1 column for random predictions\n",
    "    \"\"\"\n",
    "    rnd_preds_all = []\n",
    "    for name, group in df.groupby(by='thread_id'):\n",
    "        rnd_preds = np.random.randint(1, size=group.shape[0])\n",
    "        position_for_1 = np.random.randint(group.shape[0], size=1)\n",
    "        rnd_preds[position_for_1] = 1\n",
    "        rnd_preds_all.extend(rnd_preds)\n",
    "    df['rnd_pred'] = rnd_preds_all\n",
    "    return df"
   ]
  },
  {
   "cell_type": "markdown",
   "metadata": {},
   "source": [
    "## Compute metrics"
   ]
  },
  {
   "cell_type": "code",
   "execution_count": null,
   "metadata": {
    "scrolled": true
   },
   "outputs": [
    {
     "name": "stdout",
     "output_type": "stream",
     "text": [
      "SVC\n",
      "1"
     ]
    }
   ],
   "source": [
    "mean_ndcg_data = dict()\n",
    "ci_ndcg_data = dict()\n",
    "mean_mrr_data = dict()\n",
    "ci_mrr_data = dict()\n",
    "\n",
    "files = ['SVC']\n",
    "\n",
    "for file_name in files:\n",
    "    model_name = file_name\n",
    "    print model_name\n",
    "    \n",
    "    # init\n",
    "    mean_ndcg_data[model_name] = []\n",
    "    mean_ndcg_post_data[model_name] = []\n",
    "    mean_mrr_data[model_name] = []\n",
    "    ci_ndcg_data[model_name] = []\n",
    "    ci_ndcg_post_data[model_name] = []\n",
    "    ci_mrr_data[model_name] = []\n",
    "    \n",
    "    # read predictions\n",
    "    df_model = pd.read_csv(PRED_PATH + file_name + \"_predictions.csv\")\\\n",
    "        .drop('Unnamed: 1', axis=1)\\\n",
    "        .drop('thread_id.1', axis=1)\\\n",
    "        .drop('pred_proba_class0', axis=1)\\\n",
    "        .drop('pred_proba_class1', axis=1)\\\n",
    "        .drop('post_id', axis=1)    \n",
    "    \n",
    "    # generate random predictions\n",
    "    df_model = add_random_predictions(df_model)\n",
    "    \n",
    "    # compute metrics for different k\n",
    "    for k in xrange(1, 11):\n",
    "        print k,\n",
    "        mean_ndcg_data[model_name].append(np.mean(ndcg_at_k(df_model, k, 'y_pred')))\n",
    "        mean_mrr_data[model_name].append(np.mean(mrr(df_model, 'y_pred')))"
   ]
  },
  {
   "cell_type": "markdown",
   "metadata": {},
   "source": [
    "## Time for plotting..."
   ]
  },
  {
   "cell_type": "code",
   "execution_count": null,
   "metadata": {},
   "outputs": [],
   "source": [
    "# plot NDCG@1 bars\n",
    "\n",
    "fig = plt.figure(figsize=(4, 2))\n",
    "ax1 = fig.add_subplot(111)\n",
    "\n",
    "ax1.bar(0,  mean_ndcg_data['AdaBoostClassifier'][0],  label='AdaBoostClassifier')\n",
    "ax1.bar(1,  mean_ndcg_data['RandomForestClassifier'][0],  label='RandomForestClassifier')\n",
    "ax1.bar(2,  mean_ndcg_data['SVC'][0],  label='SVC')\n",
    "ax1.bar(3,  mean_ndcg_data['LogisticRegression'][0],  label='LogisticRegression')\n",
    "ax1.bar(4,  mean_ndcg_data['KNeighborsClassifier'][0],  label='KNeighborsClassifier')\n",
    "\n",
    "plt.ylabel('nDCG@1', fontsize=8)\n",
    "plt.tick_params(axis='both', which='major', labelsize=8)\n",
    "\n",
    "plt.grid(alpha=0.7, linestyle='dotted')\n",
    "plt.legend(fontsize=8)\n",
    "plt.tight_layout(pad=0.3)"
   ]
  },
  {
   "cell_type": "code",
   "execution_count": 30,
   "metadata": {},
   "outputs": [
    {
     "data": {
      "image/png": "[encoded data removed]",
      "text/plain": [
       "<matplotlib.figure.Figure at 0x111cb7e90>"
      ]
     },
     "metadata": {},
     "output_type": "display_data"
    }
   ],
   "source": [
    "# plot NDCG curves\n",
    "\n",
    "fig = plt.figure(figsize=(4, 2))\n",
    "ax1 = fig.add_subplot(111)\n",
    "\n",
    "for model_name in mean_ndcg_data.keys():\n",
    "    ax1.plot(range(1,11), \n",
    "             mean_ndcg_data[model_name], \n",
    "             label=model_name)\n",
    "\n",
    "plt.xlabel('k', fontsize=8)\n",
    "plt.ylabel('nDCG@k', fontsize=8)\n",
    "plt.tick_params(axis='both', which='major', labelsize=8)\n",
    "\n",
    "plt.grid(alpha=0.0, linestyle='dotted')\n",
    "plt.legend(fontsize=8)\n",
    "plt.tight_layout(pad=0.3)"
   ]
  },
  {
   "cell_type": "code",
   "execution_count": 32,
   "metadata": {},
   "outputs": [
    {
     "data": {
      "image/png": "[encoded data removed]",
      "text/plain": [
       "<matplotlib.figure.Figure at 0x111e2de10>"
      ]
     },
     "metadata": {},
     "output_type": "display_data"
    }
   ],
   "source": [
    "# plot MRR curves\n",
    "\n",
    "fig = plt.figure(figsize=(4, 2))\n",
    "ax1 = fig.add_subplot(111)\n",
    "\n",
    "for model_name in mean_ndcg_data.keys():\n",
    "    ax1.plot(range(1,11), \n",
    "             mean_mrr_data[model_name], \n",
    "             label=model_name)\n",
    "\n",
    "plt.xlabel('k', fontsize=8)\n",
    "plt.ylabel('nDCG@k', fontsize=8)\n",
    "plt.tick_params(axis='both', which='major', labelsize=8)\n",
    "\n",
    "plt.grid(alpha=0.0, linestyle='dotted')\n",
    "plt.legend(fontsize=8)\n",
    "plt.tight_layout(pad=0.3)"
   ]
  },
  {
   "cell_type": "markdown",
   "metadata": {
    "collapsed": true
   },
   "source": [
    "## Featues importance (RF)"
   ]
  },
  {
   "cell_type": "code",
   "execution_count": null,
   "metadata": {
    "collapsed": true
   },
   "outputs": [],
   "source": [
    "# TODO"
   ]
  },
  {
   "cell_type": "markdown",
   "metadata": {},
   "source": [
    "## GridSearchCV analysis"
   ]
  },
  {
   "cell_type": "code",
   "execution_count": null,
   "metadata": {
    "collapsed": true
   },
   "outputs": [],
   "source": [
    "# TODO"
   ]
  }
 ],
 "metadata": {
  "kernelspec": {
   "display_name": "Python 2",
   "language": "python",
   "name": "python2"
  },
  "language_info": {
   "codemirror_mode": {
    "name": "ipython",
    "version": 2
   },
   "file_extension": ".py",
   "mimetype": "text/x-python",
   "name": "python",
   "nbconvert_exporter": "python",
   "pygments_lexer": "ipython2",
   "version": "2.7.10"
  }
 },
 "nbformat": 4,
 "nbformat_minor": 2
}
