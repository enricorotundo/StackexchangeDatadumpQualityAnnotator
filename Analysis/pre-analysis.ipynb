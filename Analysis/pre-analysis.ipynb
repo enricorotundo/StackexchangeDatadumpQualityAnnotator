{
 "cells": [
  {
   "cell_type": "code",
   "execution_count": 1,
   "metadata": {
    "collapsed": false
   },
   "outputs": [],
   "source": [
    "import django\n",
    "django.setup()\n",
    "import os\n",
    "from DatasetAnnotator.models import Posts\n",
    "from django.conf import settings\n",
    "from django.db.models import Q\n",
    "\n",
    "%matplotlib inline\n",
    "import matplotlib\n",
    "import numpy as np\n",
    "import matplotlib.pyplot as plt\n",
    "import seaborn as sns"
   ]
  },
  {
   "cell_type": "markdown",
   "metadata": {},
   "source": [
    "# Get threads length"
   ]
  },
  {
   "cell_type": "code",
   "execution_count": 3,
   "metadata": {
    "collapsed": false
   },
   "outputs": [],
   "source": [
    "available_dbs = settings.DATABASES.keys()[1:]\n",
    "\n",
    "# example: {'cooking':[1,2,1,2,5], 'webapps': [...] ....}\n",
    "threads_length = dict()\n",
    "\n",
    "for db in available_dbs:\n",
    "    os.write(1, db+\"\\n\")\n",
    "    threads_length[db] = []\n",
    "    \n",
    "    questions_id_list = Posts.objects\\\n",
    "        .using(db)\\\n",
    "        .filter(posttypeid=1)\\\n",
    "        .values_list('id', flat=True)\n",
    "    \n",
    "    for question_id in questions_id_list:\n",
    "        answers_count = Posts.objects \\\n",
    "        .using(db)\\\n",
    "        .filter(parentid=question_id)\\\n",
    "        .count()\n",
    "        \n",
    "        threads_length[db].append(answers_count + 1)"
   ]
  },
  {
   "cell_type": "markdown",
   "metadata": {},
   "source": [
    "# Get counting of items"
   ]
  },
  {
   "cell_type": "code",
   "execution_count": 11,
   "metadata": {},
   "outputs": [],
   "source": [
    "items_counting = {\n",
    "    'whole_data': {\n",
    "        'cooking': {\n",
    "            'questions': -1,\n",
    "            'answers': -1,\n",
    "            'other': -1\n",
    "        },\n",
    "        'webapps': {\n",
    "            'questions': -1,\n",
    "            'answers': -1,\n",
    "            'other': -1\n",
    "        },\n",
    "        'travel': {\n",
    "            'questions': -1,\n",
    "            'answers': -1,\n",
    "            'other': -1\n",
    "        }\n",
    "    },\n",
    "    'annotated_data': {\n",
    "        'cooking': {\n",
    "            'questions': -1,\n",
    "            'answers': -1,\n",
    "            'other': -1\n",
    "        },\n",
    "        'webapps': {\n",
    "            'questions': -1,\n",
    "            'answers': -1,\n",
    "            'other': -1\n",
    "        },\n",
    "        'travel': {\n",
    "            'questions': -1,\n",
    "            'answers': -1,\n",
    "            'other': -1\n",
    "        }\n",
    "    }\n",
    "}\n",
    "\n",
    "# total nr of questions\n",
    "for db in available_dbs:\n",
    "    items_counting['whole_data'][db]['questions'] = \\\n",
    "        Posts.objects \\\n",
    "            .using(db) \\\n",
    "            .filter(posttypeid=1) \\\n",
    "            .count()\n",
    "\n",
    "# Total nr. of answers\n",
    "for db in available_dbs:\n",
    "    items_counting['whole_data'][db]['answers'] = \\\n",
    "        Posts.objects \\\n",
    "            .using(db) \\\n",
    "            .filter(posttypeid=2) \\\n",
    "            .count()\n",
    "\n",
    "# Total nr. of other posts\n",
    "for db in available_dbs:\n",
    "    items_counting['whole_data'][db]['other'] = \\\n",
    "        Posts.objects \\\n",
    "            .using(db) \\\n",
    "            .exclude(posttypeid=1) \\\n",
    "            .exclude(posttypeid=2) \\\n",
    "            .count()\n",
    "\n",
    "# counting annotated questions\n",
    "for db in available_dbs:\n",
    "    items_counting['annotated_data'][db]['questions'] = \\\n",
    "        Posts.objects.using(db) \\\n",
    "            .filter(posttypeid=1) \\\n",
    "            .filter(Q(annotatedqualityenrico__isnull=False) | \\\n",
    "                    Q(annotatedqualitymarit__isnull=False) | \\\n",
    "                    Q(annotatedqualitychristine__isnull=False) | \\\n",
    "                    Q(annotatedqualityhenrik__isnull=False)) \\\n",
    "            .count()\n",
    "\n",
    "# counting annotated answers\n",
    "for db in available_dbs:\n",
    "    items_counting['annotated_data'][db]['answers'] = \\\n",
    "        Posts.objects.using(db) \\\n",
    "            .filter(posttypeid=2) \\\n",
    "            .filter(Q(annotatedqualityenrico__isnull=False) | \\\n",
    "                    Q(annotatedqualitymarit__isnull=False) | \\\n",
    "                    Q(annotatedqualitychristine__isnull=False) | \\\n",
    "                    Q(annotatedqualityhenrik__isnull=False)) \\\n",
    "            .count()\n",
    "\n",
    "# counting annotated others\n",
    "for db in available_dbs:\n",
    "    items_counting['annotated_data'][db]['others'] = \\\n",
    "        Posts.objects.using(db) \\\n",
    "            .exclude(posttypeid=1) \\\n",
    "            .exclude(posttypeid=2) \\\n",
    "            .filter(Q(annotatedqualityenrico__isnull=False) | \\\n",
    "                    Q(annotatedqualitymarit__isnull=False) | \\\n",
    "                    Q(annotatedqualitychristine__isnull=False) | \\\n",
    "                    Q(annotatedqualityhenrik__isnull=False)) \\\n",
    "            .count()"
   ]
  },
  {
   "cell_type": "code",
   "execution_count": 14,
   "metadata": {
    "collapsed": true
   },
   "outputs": [
    {
     "name": "stdout",
     "output_type": "stream",
     "text": [
      "{'annotated_data': {'webapps': {'other': -1, 'answers': 0, 'questions': 0}, 'travel': {'other': -1, 'answers': 0, 'questions': 0}, 'cooking': {'other': -1, 'answers': 0, 'questions': 0}}, 'whole_data': {'webapps': {'other': 1353, 'answers': 29881, 'questions': 20573}, 'travel': {'other': 3386, 'answers': 32915, 'questions': 19279}, 'cooking': {'other': 453, 'answers': 38709, 'questions': 15404}}}\n"
     ]
    }
   ],
   "source": [
    "print items_counting"
   ]
  },
  {
   "cell_type": "markdown",
   "metadata": {
    "collapsed": true
   },
   "source": [
    "# Get nr answers and nr questions, per user"
   ]
  },
  {
   "cell_type": "code",
   "execution_count": 37,
   "metadata": {},
   "outputs": [
    {
     "name": "stdout",
     "output_type": "stream",
     "text": [
      "<QuerySet [{'owneruserid': 17L, 'nr_questions': 13}, {'owneruserid': 20L, 'nr_questions': 6}, {'owneruserid': 23L, 'nr_questions': 5}, {'owneruserid': 21L, 'nr_questions': 26}, {'owneruserid': 29L, 'nr_questions': 5}, {'owneruserid': 40L, 'nr_questions': 118}, {'owneruserid': 32L, 'nr_questions': 4}, {'owneruserid': 84L, 'nr_questions': 1}, {'owneruserid': 53L, 'nr_questions': 5}, {'owneruserid': 78L, 'nr_questions': 3}, {'owneruserid': 91L, 'nr_questions': 2}, {'owneruserid': 69L, 'nr_questions': 4}, {'owneruserid': 82L, 'nr_questions': 4}, {'owneruserid': 95L, 'nr_questions': 2}, {'owneruserid': 108L, 'nr_questions': 12}, {'owneruserid': 88L, 'nr_questions': 47}, {'owneruserid': 117L, 'nr_questions': 4}, {'owneruserid': 107L, 'nr_questions': 6}, {'owneruserid': 111L, 'nr_questions': 13}, {'owneruserid': 119L, 'nr_questions': 7}, '...(remaining elements truncated)...']>\n"
     ]
    },
    {
     "name": "stdout",
     "output_type": "stream",
     "text": [
      "<QuerySet [{'owneruserid': 22L, 'nr_questions': 7}, {'owneruserid': 32L, 'nr_questions': 13}, {'owneruserid': 20L, 'nr_questions': 77}, {'owneruserid': 31L, 'nr_questions': 3}, {'owneruserid': 41L, 'nr_questions': 3}, {'owneruserid': 56L, 'nr_questions': 3}, {'owneruserid': 49L, 'nr_questions': 22}, {'owneruserid': 57L, 'nr_questions': 6}, {'owneruserid': 37L, 'nr_questions': 6}, {'owneruserid': 50L, 'nr_questions': 3}, {'owneruserid': None, 'nr_questions': 0}, {'owneruserid': 43L, 'nr_questions': 10}, {'owneruserid': 75L, 'nr_questions': 16}, {'owneruserid': 78L, 'nr_questions': 12}, {'owneruserid': 79L, 'nr_questions': 5}, {'owneruserid': 77L, 'nr_questions': 2}, {'owneruserid': 104L, 'nr_questions': 5}, {'owneruserid': 25L, 'nr_questions': 5}, {'owneruserid': 81L, 'nr_questions': 5}, {'owneruserid': 91L, 'nr_questions': 4}, '...(remaining elements truncated)...']>\n"
     ]
    },
    {
     "name": "stdout",
     "output_type": "stream",
     "text": [
      "<QuerySet [{'owneruserid': 9L, 'nr_questions': 1}, {'owneruserid': 13L, 'nr_questions': 4}, {'owneruserid': 24L, 'nr_questions': 4}, {'owneruserid': 19L, 'nr_questions': 25}, {'owneruserid': 26L, 'nr_questions': 265}, {'owneruserid': 23L, 'nr_questions': 6}, {'owneruserid': 10L, 'nr_questions': 3}, {'owneruserid': 30L, 'nr_questions': 39}, {'owneruserid': 22L, 'nr_questions': 1}, {'owneruserid': 27L, 'nr_questions': 1}, {'owneruserid': 34L, 'nr_questions': 5}, {'owneruserid': 8L, 'nr_questions': 1}, {'owneruserid': 28L, 'nr_questions': 7}, {'owneruserid': 33L, 'nr_questions': 7}, {'owneruserid': 51L, 'nr_questions': 1}, {'owneruserid': 11L, 'nr_questions': 14}, {'owneruserid': 44L, 'nr_questions': 83}, {'owneruserid': 60L, 'nr_questions': 18}, {'owneruserid': 59L, 'nr_questions': 8}, {'owneruserid': 63L, 'nr_questions': 5}, '...(remaining elements truncated)...']>\n"
     ]
    },
    {
     "name": "stdout",
     "output_type": "stream",
     "text": [
      "<QuerySet [{'owneruserid': 9L, 'nr_questions': 24}, {'owneruserid': 26L, 'nr_questions': 393}, {'owneruserid': 35L, 'nr_questions': 2}, {'owneruserid': 33L, 'nr_questions': 4}, {'owneruserid': 30L, 'nr_questions': 31}, {'owneruserid': 19L, 'nr_questions': 138}, {'owneruserid': 23L, 'nr_questions': 5}, {'owneruserid': 46L, 'nr_questions': 369}, {'owneruserid': 40L, 'nr_questions': 9}, {'owneruserid': 11L, 'nr_questions': 34}, {'owneruserid': 13L, 'nr_questions': 11}, {'owneruserid': 8L, 'nr_questions': 6}, {'owneruserid': 34L, 'nr_questions': 3}, {'owneruserid': 48L, 'nr_questions': 6}, {'owneruserid': 58L, 'nr_questions': 1}, {'owneruserid': 59L, 'nr_questions': 4}, {'owneruserid': 44L, 'nr_questions': 136}, {'owneruserid': 56L, 'nr_questions': 2}, {'owneruserid': 60L, 'nr_questions': 5}, {'owneruserid': 31L, 'nr_questions': 8}, '...(remaining elements truncated)...']>\n"
     ]
    },
    {
     "name": "stdout",
     "output_type": "stream",
     "text": [
      "<QuerySet [{'owneruserid': 16L, 'nr_questions': 11}, {'owneruserid': 17L, 'nr_questions': 4}, {'owneruserid': 14L, 'nr_questions': 2}, {'owneruserid': 24L, 'nr_questions': 6}, {'owneruserid': 21L, 'nr_questions': 6}, {'owneruserid': 27L, 'nr_questions': 44}, {'owneruserid': 18L, 'nr_questions': 1}, {'owneruserid': 29L, 'nr_questions': 1}, {'owneruserid': 26L, 'nr_questions': 1}, {'owneruserid': 38L, 'nr_questions': 1}, {'owneruserid': 3L, 'nr_questions': 1}, {'owneruserid': 36L, 'nr_questions': 3}, {'owneruserid': 22L, 'nr_questions': 2}, {'owneruserid': 43L, 'nr_questions': 12}, {'owneruserid': 39L, 'nr_questions': 1}, {'owneruserid': 50L, 'nr_questions': 1}, {'owneruserid': 2L, 'nr_questions': 2}, {'owneruserid': 57L, 'nr_questions': 2}, {'owneruserid': 64L, 'nr_questions': 4}, {'owneruserid': 44L, 'nr_questions': 2}, '...(remaining elements truncated)...']>\n"
     ]
    },
    {
     "name": "stdout",
     "output_type": "stream",
     "text": [
      "<QuerySet [{'owneruserid': 31L, 'nr_questions': 9}, {'owneruserid': 34L, 'nr_questions': 9}, {'owneruserid': 25L, 'nr_questions': 6}, {'owneruserid': 40L, 'nr_questions': 7}, {'owneruserid': 26L, 'nr_questions': 8}, {'owneruserid': 27L, 'nr_questions': 24}, {'owneruserid': 17L, 'nr_questions': 2}, {'owneruserid': 12L, 'nr_questions': 1}, {'owneruserid': 39L, 'nr_questions': 2}, {'owneruserid': 19L, 'nr_questions': 12}, {'owneruserid': 51L, 'nr_questions': 31}, {'owneruserid': 32L, 'nr_questions': 9}, {'owneruserid': 43L, 'nr_questions': 37}, {'owneruserid': 46L, 'nr_questions': 4}, {'owneruserid': 45L, 'nr_questions': 34}, {'owneruserid': 35L, 'nr_questions': 7}, {'owneruserid': 50L, 'nr_questions': 1}, {'owneruserid': 16L, 'nr_questions': 12}, {'owneruserid': 60L, 'nr_questions': 310}, {'owneruserid': 22L, 'nr_questions': 19}, '...(remaining elements truncated)...']>\n"
     ]
    }
   ],
   "source": [
    "# note: ids are non-negative integers\n",
    "users_activity = {\n",
    "    'whole_data': {\n",
    "        'cooking': {\n",
    "            '-99': {\n",
    "                'nr_questions': -1,\n",
    "                'nr_answers': -1\n",
    "            }   \n",
    "        },\n",
    "        'webapps': {\n",
    "            '-99': {\n",
    "                'nr_questions': -1,\n",
    "                'nr_answers': -1\n",
    "            }   \n",
    "        },\n",
    "        'travel': {\n",
    "            '-99': {\n",
    "                'nr_questions': -1,\n",
    "                'nr_answers': -1\n",
    "            }   \n",
    "        }\n",
    "    },\n",
    "    'annotated_data': {\n",
    "        'cooking': {\n",
    "            '-99': {\n",
    "                'nr_questions': -1,\n",
    "                'nr_answers': -1\n",
    "            }   \n",
    "        },\n",
    "        'webapps': {\n",
    "            '-99': {\n",
    "                'nr_questions': -1,\n",
    "                'nr_answers': -1\n",
    "            }   \n",
    "        },\n",
    "        'travel': {\n",
    "            '-99': {\n",
    "                'nr_questions': -1,\n",
    "                'nr_answers': -1\n",
    "            }   \n",
    "        }\n",
    "    }\n",
    "}\n",
    "\n",
    "from django.db.models import Count, Min, Max\n",
    "\n",
    "\n",
    "#TODO: first populate users_activity with existing owneruserid-s, then fill it with query below\n",
    "for db in available_dbs:\n",
    "    # questions\n",
    "    print \\\n",
    "        Posts.objects.using(db)\\\n",
    "        .filter(posttypeid=1)\\\n",
    "        .order_by()\\\n",
    "        .values('owneruserid')\\\n",
    "        .distinct()\\\n",
    "        .annotate(nr_questions=Count('owneruserid'))\n",
    "    \n",
    "    # answers\n",
    "    print \\\n",
    "        Posts.objects.using(db)\\\n",
    "        .filter(posttypeid=2)\\\n",
    "        .order_by()\\\n",
    "        .values('owneruserid')\\\n",
    "        .distinct()\\\n",
    "        .annotate(nr_questions=Count('owneruserid'))"
   ]
  },
  {
   "cell_type": "code",
   "execution_count": 16,
   "metadata": {},
   "outputs": [],
   "source": [
    ""
   ]
  },
  {
   "cell_type": "code",
   "execution_count": 17,
   "metadata": {},
   "outputs": [],
   "source": [
    ""
   ]
  },
  {
   "cell_type": "code",
   "execution_count": 17,
   "metadata": {},
   "outputs": [],
   "source": [
    ""
   ]
  },
  {
   "cell_type": "code",
   "execution_count": null,
   "metadata": {},
   "outputs": [],
   "source": [
    "\"\"\"\n",
    "# Set up the matplotlib figure\n",
    "sns.set(style=\"white\", palette=\"muted\", color_codes=True)\n",
    "f, axes = plt.subplots(3, 1, figsize=(12, 7))\n",
    "sns.despine(left=True)\n",
    "\n",
    "sns.distplot(a=threads_length['cooking'], kde=False, color=\"b\", ax=axes[0])\n",
    "sns.distplot(a=threads_length['webapps'], kde=False, color=\"r\", ax=axes[1])\n",
    "sns.distplot(a=threads_length['travel'], kde=False, color=\"g\", ax=axes[2])\n",
    "plt.tight_layout()\n",
    "\"\"\""
   ]
  }
 ],
 "metadata": {
  "kernelspec": {
   "display_name": "Python 2",
   "language": "python",
   "name": "python2"
  },
  "language_info": {
   "codemirror_mode": {
    "name": "ipython",
    "version": 2.0
   },
   "file_extension": ".py",
   "mimetype": "text/x-python",
   "name": "python",
   "nbconvert_exporter": "python",
   "pygments_lexer": "ipython2",
   "version": "2.7.10"
  }
 },
 "nbformat": 4,
 "nbformat_minor": 0
}