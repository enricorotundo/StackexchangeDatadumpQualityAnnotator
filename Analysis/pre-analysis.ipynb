{
 "cells": [
  {
   "cell_type": "code",
   "execution_count": 42,
   "metadata": {
    "collapsed": false
   },
   "outputs": [],
   "source": [
    "import django\n",
    "django.setup()\n",
    "import os\n",
    "from DatasetAnnotator.models import Posts\n",
    "from django.conf import settings\n",
    "from django.db.models import Q"
   ]
  },
  {
   "cell_type": "code",
   "execution_count": 2,
   "metadata": {
    "collapsed": false
   },
   "outputs": [],
   "source": [
    "# discussions length distribution\n",
    "\n",
    "available_dbs = settings.DATABASES.keys()[1:]\n",
    "\n",
    "counting = dict()\n",
    "\n",
    "for db in available_dbs:\n",
    "    os.write(1, db+\"\\n\")\n",
    "    counting[db] = []\n",
    "    \n",
    "    questions_id_list = Posts.objects\\\n",
    "        .using(db)\\\n",
    "        .filter(posttypeid=1)\\\n",
    "        .values_list('id', flat=True)\n",
    "    \n",
    "    for question_id in questions_id_list:\n",
    "        answers_count = Posts.objects \\\n",
    "        .using(db)\\\n",
    "        .filter(parentid=question_id)\\\n",
    "        .count()\n",
    "        \n",
    "        counting[db].append(answers_count + 1)"
   ]
  },
  {
   "cell_type": "code",
   "execution_count": 62,
   "metadata": {},
   "outputs": [
    {
     "name": "stdout",
     "output_type": "stream",
     "text": [
      "\nTotal nr. of questions\nwebapps:\t20573\ntravel:\t19279\ncooking:\t15404\n\nTotal nr. of answers\nwebapps:\t29881\ntravel:\t32915\ncooking:\t38709\n\nTotal nr. of other posts\nwebapps:\t1353\n"
     ]
    },
    {
     "name": "stdout",
     "output_type": "stream",
     "text": [
      "travel:\t3386\ncooking:\t453\n\nAnnotated posts\n\n"
     ]
    },
    {
     "name": "stdout",
     "output_type": "stream",
     "text": [
      "webapps:0\n"
     ]
    },
    {
     "name": "stdout",
     "output_type": "stream",
     "text": [
      "travel:0\ncooking:0\n\nAnnotated questions\n\n"
     ]
    },
    {
     "name": "stdout",
     "output_type": "stream",
     "text": [
      "webapps: 0\n"
     ]
    },
    {
     "name": "stdout",
     "output_type": "stream",
     "text": [
      "travel: 0\ncooking: 0\n"
     ]
    }
   ],
   "source": [
    "# counting absolute items\n",
    "print '\\nTotal nr. of questions'\n",
    "for db in available_dbs:\n",
    "    print '{}:\\t{}'.format(db, Posts.objects\\\n",
    "        .using(db)\\\n",
    "        .filter(posttypeid=1)\\\n",
    "        .count())\n",
    "    \n",
    "print '\\nTotal nr. of answers'\n",
    "for db in available_dbs:\n",
    "    print '{}:\\t{}'.format(db, Posts.objects\\\n",
    "        .using(db)\\\n",
    "        .filter(posttypeid=2)\\\n",
    "        .count())\n",
    "    \n",
    "print '\\nTotal nr. of other posts'\n",
    "for db in available_dbs:\n",
    "    print '{}:\\t{}'.format(db, Posts.objects\\\n",
    "        .using(db)\\\n",
    "        .exclude(posttypeid=1)\\\n",
    "        .exclude(posttypeid=2)\\\n",
    "        .count())\n",
    "        \n",
    "# counting annotated posts\n",
    "print '\\nAnnotated posts\\n'\n",
    "for db in available_dbs:\n",
    "    print '{}:{:d}'.format(db, Posts.objects.using(db).filter(Q(annotatedqualityenrico__isnull=False) | \\\n",
    "                                    Q(annotatedqualitymarit__isnull=False) | \\\n",
    "                                    Q(annotatedqualitychristine__isnull=False) | \\\n",
    "                                    Q(annotatedqualityhenrik__isnull=False))\\\n",
    "                            .count())\n",
    "\n",
    "# counting annotated questions\n",
    "print '\\nAnnotated questions\\n'\n",
    "for db in available_dbs:\n",
    "    print('{}: {:d}').format(db, Posts.objects.using(db)\\\n",
    "                                    .filter(posttypeid=1)\\\n",
    "                                    .filter(Q(annotatedqualityenrico__isnull=False) | \\\n",
    "                                    Q(annotatedqualitymarit__isnull=False) | \\\n",
    "                                    Q(annotatedqualitychristine__isnull=False) | \\\n",
    "                                    Q(annotatedqualityhenrik__isnull=False))\\\n",
    "                            .count())"
   ]
  },
  {
   "cell_type": "code",
   "execution_count": 13,
   "metadata": {
    "collapsed": true
   },
   "outputs": [],
   "source": [
    "%matplotlib inline\n",
    "import matplotlib\n",
    "import numpy as np\n",
    "import matplotlib.pyplot as plt\n",
    "import seaborn as sns\n",
    "sns.set(style=\"white\", palette=\"muted\", color_codes=True)\n",
    "rs = np.random.RandomState(10)"
   ]
  },
  {
   "cell_type": "code",
   "execution_count": 33,
   "metadata": {},
   "outputs": [
    {
     "data": {
      "image/png": "[encoded data removed]",
      "text/plain": [
       "<matplotlib.figure.Figure at 0x10971aa10>"
      ]
     },
     "metadata": {},
     "output_type": "display_data"
    }
   ],
   "source": [
    "# Set up the matplotlib figure\n",
    "f, axes = plt.subplots(3, 1, figsize=(12, 7))\n",
    "sns.despine(left=True)\n",
    "\n",
    "\n",
    "sns.distplot(a=counting['cooking'], kde=False, color=\"b\", ax=axes[0])\n",
    "sns.distplot(a=counting['webapps'], kde=False, color=\"r\", ax=axes[1])\n",
    "sns.distplot(a=counting['travel'], kde=False, color=\"g\", ax=axes[2])\n",
    "plt.tight_layout()"
   ]
  },
  {
   "cell_type": "code",
   "execution_count": null,
   "metadata": {},
   "outputs": [],
   "source": [
    "#TODO get all the stats in the paper\n",
    "# also compare annotated dataset with normal one"
   ]
  }
 ],
 "metadata": {
  "kernelspec": {
   "display_name": "Python 2",
   "language": "python",
   "name": "python2"
  },
  "language_info": {
   "codemirror_mode": {
    "name": "ipython",
    "version": 2.0
   },
   "file_extension": ".py",
   "mimetype": "text/x-python",
   "name": "python",
   "nbconvert_exporter": "python",
   "pygments_lexer": "ipython2",
   "version": "2.7.10"
  }
 },
 "nbformat": 4,
 "nbformat_minor": 0
}