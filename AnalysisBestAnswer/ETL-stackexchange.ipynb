{
 "cells": [
  {
   "cell_type": "code",
   "execution_count": 12,
   "metadata": {
    "collapsed": true
   },
   "outputs": [],
   "source": [
    "\"\"\"\n",
    "NOTE: to run notebook use: venv/bin/python manage.py shell_plus --notebook\n",
    "\"\"\"\n",
    "\n",
    "MYPROJECT='/Users/erotundo/PycharmProjects/DatasetAnnotatorProj'\n",
    "import os, sys\n",
    "sys.path.insert(0, MYPROJECT)\n",
    "os.environ.setdefault(\"DJANGO_SETTINGS_MODULE\", \"local_settings.py\")\n",
    "\n",
    "import django\n",
    "django.setup()\n",
    "\n",
    "from django.conf import settings\n",
    "from DatasetAnnotator.models import Posts\n",
    "from django.db.models import Q, F\n",
    "from django.db.models import Count, Sum, Max, Avg\n",
    "from django.db.models import When, Case, Value\n",
    "from django.db.models import IntegerField, FloatField\n",
    "import numpy as np\n",
    "import pandas as pd\n",
    "from django.db.models.functions import Greatest, Coalesce\n",
    "from djqscsv import write_csv\n",
    "\n",
    "%matplotlib inline\n",
    "import matplotlib\n",
    "import matplotlib.pyplot as plt\n",
    "import seaborn as sns\n",
    "\n",
    "# community selection\n",
    "#available_dbs = settings.DATABASES.keys()[1:]\n",
    "db = 'travel'"
   ]
  },
  {
   "cell_type": "code",
   "execution_count": 19,
   "metadata": {},
   "outputs": [],
   "source": [
    "# load all questions and answers\n",
    "qs = Posts.objects\\\n",
    "        .using(db)\\\n",
    "        .filter(Q(posttypeid=1) | Q(posttypeid=2))\\\n",
    "        .values('id',\n",
    "                'posttypeid',\n",
    "                'acceptedanswerid',\n",
    "                'parentid',\n",
    "                'owneruserid',\n",
    "                'title',\n",
    "                'body',\n",
    "                'tags',\n",
    "                'commentcount'\n",
    "                )"
   ]
  },
  {
   "cell_type": "code",
   "execution_count": 20,
   "metadata": {},
   "outputs": [],
   "source": [
    "with open('foo.csv', 'w') as csv_file:\n",
    "  write_csv(qs, csv_file)"
   ]
  },
  {
   "cell_type": "code",
   "execution_count": null,
   "metadata": {},
   "outputs": [],
   "source": [
    ""
   ]
  }
 ],
 "metadata": {
  "kernelspec": {
   "display_name": "Python 2",
   "language": "python",
   "name": "python2"
  },
  "language_info": {
   "codemirror_mode": {
    "name": "ipython",
    "version": 2.0
   },
   "file_extension": ".py",
   "mimetype": "text/x-python",
   "name": "python",
   "nbconvert_exporter": "python",
   "pygments_lexer": "ipython2",
   "version": "2.7.6"
  }
 },
 "nbformat": 4,
 "nbformat_minor": 0
}