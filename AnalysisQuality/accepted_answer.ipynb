{
 "cells": [
  {
   "cell_type": "code",
   "execution_count": 1,
   "metadata": {
    "collapsed": true
   },
   "outputs": [],
   "source": [
    "\"\"\"\n",
    "NOTE: to run notebook use: venv/bin/python manage.py shell_plus --notebook\n",
    "\"\"\"\n",
    "\n",
    "MYPROJECT='/Users/erotundo/PycharmProjects/DatasetAnnotatorProj'\n",
    "import os, sys\n",
    "sys.path.insert(0, MYPROJECT)\n",
    "os.environ.setdefault(\"DJANGO_SETTINGS_MODULE\", \"local_settings.py\")\n",
    "\n",
    "import django\n",
    "django.setup()\n",
    "\n",
    "from django.conf import settings\n",
    "from DatasetAnnotator.models import Posts\n",
    "from django.db.models import Q, F\n",
    "from django.db.models import Count, Sum, Max, Avg\n",
    "from django.db.models import When, Case, Value\n",
    "from django.db.models import IntegerField, FloatField\n",
    "import numpy as np\n",
    "import pandas as pd\n",
    "from django.db.models.functions import Greatest, Coalesce\n",
    "\n",
    "%matplotlib inline\n",
    "import matplotlib\n",
    "import matplotlib.pyplot as plt\n",
    "import seaborn as sns\n",
    "\n",
    "sns.set(style=\"white\", palette=\"muted\", color_codes=True)\n",
    "available_dbs = settings.DATABASES.keys()[1:]\n",
    "PLOTS_PATH = 'AnalysisQuality/plots/'\n",
    "PLOTS_FORMATS = ['.pdf', '.png']"
   ]
  },
  {
   "cell_type": "markdown",
   "metadata": {},
   "source": [
    "# Count posts with \"AcceptedAnswerId\""
   ]
  },
  {
   "cell_type": "code",
   "execution_count": 4,
   "metadata": {
    "collapsed": false
   },
   "outputs": [
    {
     "name": "stdout",
     "output_type": "stream",
     "text": [
      "webapps\n",
      "20573\n",
      "12546\n",
      "8027\n",
      "\n",
      "\n",
      "travel\n",
      "19279\n",
      "10306\n",
      "8973\n",
      "\n",
      "\n",
      "cooking\n",
      "15404\n",
      "7007\n",
      "8397\n",
      "\n",
      "\n"
     ]
    }
   ],
   "source": [
    "for db in available_dbs:\n",
    "    print db\n",
    "    print Posts.objects.using(db).filter(posttypeid=1).count()\n",
    "    print Posts.objects.using(db).filter(posttypeid=1).filter(acceptedanswerid__isnull=True).count()\n",
    "    print Posts.objects.using(db).filter(posttypeid=1).filter(acceptedanswerid__isnull=False).count()\n",
    "    print \"\\n\""
   ]
  },
  {
   "cell_type": "code",
   "execution_count": null,
   "metadata": {
    "collapsed": true
   },
   "outputs": [],
   "source": [
    ""
   ]
  }
 ],
 "metadata": {
  "kernelspec": {
   "display_name": "Python 2",
   "language": "python",
   "name": "python2"
  },
  "language_info": {
   "codemirror_mode": {
    "name": "ipython",
    "version": 2.0
   },
   "file_extension": ".py",
   "mimetype": "text/x-python",
   "name": "python",
   "nbconvert_exporter": "python",
   "pygments_lexer": "ipython2",
   "version": "2.7.10"
  }
 },
 "nbformat": 4,
 "nbformat_minor": 0
}